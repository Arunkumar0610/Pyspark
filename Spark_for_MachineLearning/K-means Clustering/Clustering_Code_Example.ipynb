{
  "nbformat": 4,
  "nbformat_minor": 0,
  "metadata": {
    "colab": {
      "provenance": []
    },
    "kernelspec": {
      "name": "python3",
      "display_name": "Python 3"
    },
    "language_info": {
      "name": "python"
    }
  },
  "cells": [
    {
      "cell_type": "code",
      "execution_count": 1,
      "metadata": {
        "colab": {
          "base_uri": "https://localhost:8080/"
        },
        "id": "JU1n7ZHRJUtK",
        "outputId": "1581478a-3853-443b-ae43-8c45c18349cf"
      },
      "outputs": [
        {
          "output_type": "stream",
          "name": "stdout",
          "text": [
            "Looking in indexes: https://pypi.org/simple, https://us-python.pkg.dev/colab-wheels/public/simple/\n",
            "Collecting pyspark\n",
            "  Downloading pyspark-3.4.0.tar.gz (310.8 MB)\n",
            "\u001b[2K     \u001b[90m━━━━━━━━━━━━━━━━━━━━━━━━━━━━━━━━━━━━━━━\u001b[0m \u001b[32m310.8/310.8 MB\u001b[0m \u001b[31m2.8 MB/s\u001b[0m eta \u001b[36m0:00:00\u001b[0m\n",
            "\u001b[?25h  Preparing metadata (setup.py) ... \u001b[?25l\u001b[?25hdone\n",
            "Requirement already satisfied: py4j in /usr/local/lib/python3.10/dist-packages (0.10.9.7)\n",
            "Building wheels for collected packages: pyspark\n",
            "  Building wheel for pyspark (setup.py) ... \u001b[?25l\u001b[?25hdone\n",
            "  Created wheel for pyspark: filename=pyspark-3.4.0-py2.py3-none-any.whl size=311317145 sha256=a2768d1e3ff4a6963f454069c7e75510e82f81d562b599cf1ef8ba7f9955253e\n",
            "  Stored in directory: /root/.cache/pip/wheels/7b/1b/4b/3363a1d04368e7ff0d408e57ff57966fcdf00583774e761327\n",
            "Successfully built pyspark\n",
            "Installing collected packages: pyspark\n",
            "Successfully installed pyspark-3.4.0\n"
          ]
        }
      ],
      "source": [
        "!pip install pyspark py4j"
      ]
    },
    {
      "cell_type": "markdown",
      "source": [
        "# Clustering Documentation Example\n",
        "\n",
        "## K-means\n",
        "\n",
        "k-means is one of the most commonly used clustering algorithms that clusters the data points into a predefined number of clusters. The MLlib implementation includes a parallelized variant of the k-means++ method called kmeans||.\n",
        "\n",
        "KMeans is implemented as an Estimator and generates a KMeansModel as the base model.\n",
        "\n",
        "## Input Columns\n",
        "+++++++++++++++++++++++++++++++++++\n",
        "\n",
        "|Param name |Type(s) |Default |Description |\n",
        "\n",
        "+++++++++++++++++++++++++++++++++++\n",
        "\n",
        "|featuresCol |Vector |\"features\" |Feature vector |\n",
        "\n",
        "+++++++++++++++++++++++++++++++++++\n",
        "\n",
        "## Output Columns\n",
        "++++++++++++++++++++++++++++++++++++++++++++\n",
        "\n",
        "|Param name |\tType(s)\t| Default\t| Description |\n",
        "\n",
        "++++++++++++++++++++++++++++++++++++++++++++\n",
        "\n",
        "|predictionCol\t| Int\t| \"prediction\"\t| Predicted cluster center |\n",
        "\n",
        "++++++++++++++++++++++++++++++++++++++++++++"
      ],
      "metadata": {
        "id": "4oeXpEBOJWki"
      }
    },
    {
      "cell_type": "code",
      "source": [
        "#Cluster methods Example\n",
        "from pyspark.sql import SparkSession\n",
        "spark = SparkSession.builder.appName('cluster').getOrCreate()"
      ],
      "metadata": {
        "id": "nVn_ER20KFDc"
      },
      "execution_count": 2,
      "outputs": []
    },
    {
      "cell_type": "code",
      "source": [
        "from pyspark.ml.clustering import KMeans\n",
        "\n",
        "# Loads data.\n",
        "dataset = spark.read.format(\"libsvm\").load(\"/content/sample_data/sample_kmeans_data.txt\")"
      ],
      "metadata": {
        "id": "h56b9J5dNkLI"
      },
      "execution_count": 11,
      "outputs": []
    },
    {
      "cell_type": "code",
      "source": [
        "final_data=dataset.select('features')"
      ],
      "metadata": {
        "id": "F2taNBJlN521"
      },
      "execution_count": 12,
      "outputs": []
    },
    {
      "cell_type": "code",
      "source": [
        "final_data.show()"
      ],
      "metadata": {
        "colab": {
          "base_uri": "https://localhost:8080/"
        },
        "id": "BvCRozvlOCAr",
        "outputId": "47e3c7e0-3a68-46d4-c216-a25d8cc8f689"
      },
      "execution_count": 13,
      "outputs": [
        {
          "output_type": "stream",
          "name": "stdout",
          "text": [
            "+--------------------+\n",
            "|            features|\n",
            "+--------------------+\n",
            "|           (3,[],[])|\n",
            "|(3,[0,1,2],[0.1,0...|\n",
            "|(3,[0,1,2],[0.2,0...|\n",
            "|(3,[0,1,2],[9.0,9...|\n",
            "|(3,[0,1,2],[9.1,9...|\n",
            "|(3,[0,1,2],[9.2,9...|\n",
            "+--------------------+\n",
            "\n"
          ]
        }
      ]
    },
    {
      "cell_type": "code",
      "source": [
        "# Trains a k-means model.\n",
        "kmeans = KMeans().setK(2).setSeed(1)\n",
        "model = kmeans.fit(final_data)"
      ],
      "metadata": {
        "id": "7Gfw1kVgOJI6"
      },
      "execution_count": 14,
      "outputs": []
    },
    {
      "cell_type": "markdown",
      "source": [
        "### computing Within Set Sum of Squared Errors."
      ],
      "metadata": {
        "id": "8DNE_hnKQXxq"
      }
    },
    {
      "cell_type": "code",
      "source": [
        "# Evaluate clustering by computing Within Set Sum of Squared Errors.\n",
        "wssse=model.summary.trainingCost\n",
        "print(\"Within Set Sum of Squared Errors = \" + str(wssse))"
      ],
      "metadata": {
        "colab": {
          "base_uri": "https://localhost:8080/"
        },
        "id": "WrNrS0TISwkn",
        "outputId": "42e4fe99-767b-494a-905c-0551609b0325"
      },
      "execution_count": 30,
      "outputs": [
        {
          "output_type": "stream",
          "name": "stdout",
          "text": [
            "Within Set Sum of Squared Errors = 0.11999999999994547\n"
          ]
        }
      ]
    },
    {
      "cell_type": "markdown",
      "source": [
        "In spark 2.2 to 3.0.0\n",
        "\n",
        "`wssse=model.computeCost(final_data)`\n",
        "\n",
        "`print(\"Within Set Sum of Squared Errors = \" + str(wssse))`"
      ],
      "metadata": {
        "id": "LjckCe1iQkjk"
      }
    },
    {
      "cell_type": "code",
      "source": [
        "# Shows the result.\n",
        "centers = model.clusterCenters()\n",
        "print(\"Cluster Centers: \")\n",
        "for center in centers:\n",
        "    print(center)"
      ],
      "metadata": {
        "colab": {
          "base_uri": "https://localhost:8080/"
        },
        "id": "ZPnnc3knQ6mr",
        "outputId": "86938c16-1da7-4c08-c9ec-50cb77422c52"
      },
      "execution_count": 31,
      "outputs": [
        {
          "output_type": "stream",
          "name": "stdout",
          "text": [
            "Cluster Centers: \n",
            "[9.1 9.1 9.1]\n",
            "[0.1 0.1 0.1]\n"
          ]
        }
      ]
    },
    {
      "cell_type": "code",
      "source": [
        "result= model.transform(final_data)\n",
        "result.show()"
      ],
      "metadata": {
        "colab": {
          "base_uri": "https://localhost:8080/"
        },
        "id": "4WzKGoO6Rd7B",
        "outputId": "0581b0ca-8791-4a54-b555-8296501bda7b"
      },
      "execution_count": 32,
      "outputs": [
        {
          "output_type": "stream",
          "name": "stdout",
          "text": [
            "+--------------------+----------+\n",
            "|            features|prediction|\n",
            "+--------------------+----------+\n",
            "|           (3,[],[])|         1|\n",
            "|(3,[0,1,2],[0.1,0...|         1|\n",
            "|(3,[0,1,2],[0.2,0...|         1|\n",
            "|(3,[0,1,2],[9.0,9...|         0|\n",
            "|(3,[0,1,2],[9.1,9...|         0|\n",
            "|(3,[0,1,2],[9.2,9...|         0|\n",
            "+--------------------+----------+\n",
            "\n"
          ]
        }
      ]
    }
  ]
}
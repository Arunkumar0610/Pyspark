{
  "nbformat": 4,
  "nbformat_minor": 0,
  "metadata": {
    "colab": {
      "provenance": []
    },
    "kernelspec": {
      "name": "python3",
      "display_name": "Python 3"
    },
    "language_info": {
      "name": "python"
    }
  },
  "cells": [
    {
      "cell_type": "markdown",
      "source": [
        "### Linear Regression Documentation Example\n",
        "\n",
        "Let's walk through the steps of the official documentation example. Doing this will help your ability to read from the documentation, understand it, and then apply it to your own problems (the upcoming Consulting Project)."
      ],
      "metadata": {
        "id": "gjqAACKWxsYx"
      }
    },
    {
      "cell_type": "code",
      "source": [
        "!pip install pyspark py4j"
      ],
      "metadata": {
        "colab": {
          "base_uri": "https://localhost:8080/"
        },
        "id": "rCyvQL5_1R0w",
        "outputId": "22297969-1441-4b73-d5e1-9285b492c8b0"
      },
      "execution_count": 2,
      "outputs": [
        {
          "output_type": "stream",
          "name": "stdout",
          "text": [
            "Looking in indexes: https://pypi.org/simple, https://us-python.pkg.dev/colab-wheels/public/simple/\n",
            "Requirement already satisfied: pyspark in /usr/local/lib/python3.10/dist-packages (3.4.0)\n",
            "Requirement already satisfied: py4j in /usr/local/lib/python3.10/dist-packages (0.10.9.7)\n"
          ]
        }
      ]
    },
    {
      "cell_type": "code",
      "execution_count": 3,
      "metadata": {
        "id": "FhJiEp_QxnNh"
      },
      "outputs": [],
      "source": [
        "from pyspark.sql import SparkSession"
      ]
    },
    {
      "cell_type": "code",
      "source": [
        "spark=SparkSession.builder.appName('lrex').getOrCreate()"
      ],
      "metadata": {
        "id": "k8iBB0q_zWUq"
      },
      "execution_count": 4,
      "outputs": []
    },
    {
      "cell_type": "code",
      "source": [
        "from pyspark.ml.regression import LinearRegression"
      ],
      "metadata": {
        "id": "cNF4iNaJze2e"
      },
      "execution_count": 5,
      "outputs": []
    },
    {
      "cell_type": "code",
      "source": [
        "# Load training data\n",
        "training=spark.read.format('libsvm').load('/content/sample_data/sample_linear_regression_data.txt')"
      ],
      "metadata": {
        "id": "s9juh9qPzoF0"
      },
      "execution_count": 38,
      "outputs": []
    },
    {
      "cell_type": "markdown",
      "source": [
        "Interesting! We haven't seen libsvm formats before. In fact the aren't very popular when working with datasets in Python, but the Spark Documentation makes use of them a lot because of their formatting. Let's see what the training data looks like:"
      ],
      "metadata": {
        "id": "7f0kqJNN5EAw"
      }
    },
    {
      "cell_type": "code",
      "source": [
        "training.show()"
      ],
      "metadata": {
        "colab": {
          "base_uri": "https://localhost:8080/"
        },
        "id": "r_uvkQO0z092",
        "outputId": "febb9c2c-8f2b-43ab-a314-847c13070eb4"
      },
      "execution_count": 9,
      "outputs": [
        {
          "output_type": "stream",
          "name": "stdout",
          "text": [
            "+-------------------+--------------------+\n",
            "|              label|            features|\n",
            "+-------------------+--------------------+\n",
            "| -9.490009878824548|(10,[0,1,2,3,4,5,...|\n",
            "| 0.2577820163584905|(10,[0,1,2,3,4,5,...|\n",
            "| -4.438869807456516|(10,[0,1,2,3,4,5,...|\n",
            "|-19.782762789614537|(10,[0,1,2,3,4,5,...|\n",
            "| -7.966593841555266|(10,[0,1,2,3,4,5,...|\n",
            "| -7.896274316726144|(10,[0,1,2,3,4,5,...|\n",
            "| -8.464803554195287|(10,[0,1,2,3,4,5,...|\n",
            "| 2.1214592666251364|(10,[0,1,2,3,4,5,...|\n",
            "| 1.0720117616524107|(10,[0,1,2,3,4,5,...|\n",
            "|-13.772441561702871|(10,[0,1,2,3,4,5,...|\n",
            "| -5.082010756207233|(10,[0,1,2,3,4,5,...|\n",
            "|  7.887786536531237|(10,[0,1,2,3,4,5,...|\n",
            "| 14.323146365332388|(10,[0,1,2,3,4,5,...|\n",
            "|-20.057482615789212|(10,[0,1,2,3,4,5,...|\n",
            "|-0.8995693247765151|(10,[0,1,2,3,4,5,...|\n",
            "| -19.16829262296376|(10,[0,1,2,3,4,5,...|\n",
            "|  5.601801561245534|(10,[0,1,2,3,4,5,...|\n",
            "|-3.2256352187273354|(10,[0,1,2,3,4,5,...|\n",
            "| 1.5299675726687754|(10,[0,1,2,3,4,5,...|\n",
            "| -0.250102447941961|(10,[0,1,2,3,4,5,...|\n",
            "+-------------------+--------------------+\n",
            "only showing top 20 rows\n",
            "\n"
          ]
        }
      ]
    },
    {
      "cell_type": "markdown",
      "source": [
        "This is the format that Spark expects. Two columns with the names \"label\" and \"features\".\n",
        "\n",
        "The \"label\" column then needs to have the numerical label, either a regression numerical value, or a numerical value that matches to a classification grouping. Later on we will talk about unsupervised learning algorithms that by their nature do not use or require a label.\n",
        "\n",
        "The feature column has inside of it a vector of all the features that belong to that row. Usually what we end up doing is combining the various feature columns we have into a single 'features' column using the data transformations we've learned about.\n",
        "\n",
        "Let's continue working through this simple example!"
      ],
      "metadata": {
        "id": "3YseAp6m5MCx"
      }
    },
    {
      "cell_type": "code",
      "source": [
        "# These are the default values for the featuresCol, labelCol, predictionCol\n",
        "lr=LinearRegression(featuresCol='features',labelCol='label',predictionCol='prediction')\n",
        "# You could also pass in additional parameters for regularization, do the reading \n",
        "# in ISLR to fully understand that, after that its just some simple parameter calls.\n",
        "# Check the documentation with Shift+Tab for more info!"
      ],
      "metadata": {
        "id": "hU9sXdlHz0_c"
      },
      "execution_count": 39,
      "outputs": []
    },
    {
      "cell_type": "code",
      "source": [
        "# Fit the model\n",
        "lrModel = lr.fit(training)"
      ],
      "metadata": {
        "id": "oBQlpR-D2WYy"
      },
      "execution_count": 40,
      "outputs": []
    },
    {
      "cell_type": "code",
      "source": [
        "# Print the coefficients and intercept for linear regression\n",
        "print(\"Coefficients: {}\".format(str(lrModel.coefficients))) # For each feature...\n",
        "print('\\n')\n",
        "print(\"Intercept:{}\".format(str(lrModel.intercept)))"
      ],
      "metadata": {
        "colab": {
          "base_uri": "https://localhost:8080/"
        },
        "id": "Hxr5g9bW2bYk",
        "outputId": "5d3d7c69-3266-44a7-d19c-e1577802de02"
      },
      "execution_count": 41,
      "outputs": [
        {
          "output_type": "stream",
          "name": "stdout",
          "text": [
            "Coefficients: [0.0073350710225801715,0.8313757584337543,-0.8095307954684084,2.441191686884721,0.5191713795290003,1.1534591903547016,-0.2989124112808717,-0.5128514186201779,-0.619712827067017,0.6956151804322931]\n",
            "\n",
            "\n",
            "Intercept:0.14228558260358093\n"
          ]
        }
      ]
    },
    {
      "cell_type": "markdown",
      "source": [
        "There is a summary attribute that contains even more info!"
      ],
      "metadata": {
        "id": "J9PtmGxI5ua3"
      }
    },
    {
      "cell_type": "code",
      "source": [
        "# Summarize the model over the training set and print out some metrics\n",
        "training_summary=lrModel.summary"
      ],
      "metadata": {
        "id": "fiSPTieD2lXm"
      },
      "execution_count": 42,
      "outputs": []
    },
    {
      "cell_type": "markdown",
      "source": [
        "Lots of info, here are a few examples:"
      ],
      "metadata": {
        "id": "tuaAMTGu55O1"
      }
    },
    {
      "cell_type": "code",
      "source": [
        "training_summary.residuals.show()\n",
        "print(\"RMSE: {}\".format(training_summary.rootMeanSquaredError))\n",
        "print(\"r2: {}\".format(training_summary.r2))"
      ],
      "metadata": {
        "colab": {
          "base_uri": "https://localhost:8080/"
        },
        "id": "CtMfwt3x2rHj",
        "outputId": "4c492da9-3135-4018-8724-097e0f9be0bd"
      },
      "execution_count": 44,
      "outputs": [
        {
          "output_type": "stream",
          "name": "stdout",
          "text": [
            "+-------------------+\n",
            "|          residuals|\n",
            "+-------------------+\n",
            "|-11.011130022096554|\n",
            "| 0.9236590911176538|\n",
            "|-4.5957401897776675|\n",
            "|  -20.4201774575836|\n",
            "|-10.339160314788181|\n",
            "|-5.9552091439610555|\n",
            "|-10.726906349283922|\n",
            "|  2.122807193191233|\n",
            "|  4.077122222293811|\n",
            "|-17.316168071241652|\n",
            "| -4.593044343959059|\n",
            "|  6.380476690746936|\n",
            "| 11.320566035059846|\n",
            "|-20.721971774534094|\n",
            "| -2.736692773777401|\n",
            "| -16.66886934252847|\n",
            "|  8.242186378876315|\n",
            "|-1.3723486332690233|\n",
            "|-0.7060332131264666|\n",
            "|-1.1591135969994064|\n",
            "+-------------------+\n",
            "only showing top 20 rows\n",
            "\n",
            "RMSE: 10.16309157133015\n",
            "r2: 0.027839179518600154\n"
          ]
        }
      ]
    },
    {
      "cell_type": "markdown",
      "source": [
        "## Train/Test Splits\n",
        "\n",
        "But wait! We've commited a big mistake, we never separated our data set into a training and test set. Instead we trained on ALL of the data, something we generally want to avoid doing. Read ISLR and check out the theory lecture for more info on this, but remember we won't get a fair evaluation of our model by judging how well it does again on the same data it was trained on!\n",
        "\n",
        "Luckily Spark DataFrames have an almost too convienent method of splitting the data! Let's see it:"
      ],
      "metadata": {
        "id": "p3hw5zJf6I8a"
      }
    },
    {
      "cell_type": "code",
      "source": [
        "all_data=spark.read.format('libsvm').load('/content/sample_data/sample_linear_regression_data.txt')"
      ],
      "metadata": {
        "id": "w3cd2oIR3FsA"
      },
      "execution_count": 22,
      "outputs": []
    },
    {
      "cell_type": "code",
      "source": [
        "# Pass in the split between training/test as a list.\n",
        "# No correct, but generally 70/30 or 60/40 splits are used. \n",
        "# Depending on how much data you have and how unbalanced it is.\n",
        "train_data,test_data=all_data.randomSplit([0.7,0.3])"
      ],
      "metadata": {
        "id": "tCiVEoYP3RVu"
      },
      "execution_count": 45,
      "outputs": []
    },
    {
      "cell_type": "code",
      "source": [
        "train_data.describe().show()"
      ],
      "metadata": {
        "colab": {
          "base_uri": "https://localhost:8080/"
        },
        "id": "Y1I8AMZg3bnD",
        "outputId": "fd8e085a-523e-45b0-8d1a-784d41261784"
      },
      "execution_count": 46,
      "outputs": [
        {
          "output_type": "stream",
          "name": "stdout",
          "text": [
            "+-------+--------------------+\n",
            "|summary|               label|\n",
            "+-------+--------------------+\n",
            "|  count|                 356|\n",
            "|   mean|-0.12517698043780118|\n",
            "| stddev|  10.174809440911536|\n",
            "|    min| -28.571478869743427|\n",
            "|    max|   27.78383192005107|\n",
            "+-------+--------------------+\n",
            "\n"
          ]
        }
      ]
    },
    {
      "cell_type": "code",
      "source": [
        "test_data.describe().show()"
      ],
      "metadata": {
        "colab": {
          "base_uri": "https://localhost:8080/"
        },
        "id": "PmOJnasd3kAi",
        "outputId": "853660aa-aff7-45dc-be89-c3d82a4e1a85"
      },
      "execution_count": 47,
      "outputs": [
        {
          "output_type": "stream",
          "name": "stdout",
          "text": [
            "+-------+-------------------+\n",
            "|summary|              label|\n",
            "+-------+-------------------+\n",
            "|  count|                145|\n",
            "|   mean| 1.1949262410727393|\n",
            "| stddev|  10.63857491983645|\n",
            "|    min|-28.046018037776633|\n",
            "|    max| 26.903524792043335|\n",
            "+-------+-------------------+\n",
            "\n"
          ]
        }
      ]
    },
    {
      "cell_type": "markdown",
      "source": [
        "Now we only train on the train_data"
      ],
      "metadata": {
        "id": "15DiiqUG6bkY"
      }
    },
    {
      "cell_type": "code",
      "source": [
        "correct_model=lr.fit(train_data)"
      ],
      "metadata": {
        "id": "QcYB2UJG3pwN"
      },
      "execution_count": 48,
      "outputs": []
    },
    {
      "cell_type": "markdown",
      "source": [
        "Now we can directly get a .summary object using the evaluate method:"
      ],
      "metadata": {
        "id": "sXdEk7Lp6o_N"
      }
    },
    {
      "cell_type": "code",
      "source": [
        "test_results=correct_model.evaluate(test_data)"
      ],
      "metadata": {
        "id": "qVf6xuA736Q0"
      },
      "execution_count": 49,
      "outputs": []
    },
    {
      "cell_type": "code",
      "source": [
        "test_results.residuals.show()\n",
        "print(\"RMSE: {}\".format(test_results.rootMeanSquaredError))"
      ],
      "metadata": {
        "colab": {
          "base_uri": "https://localhost:8080/"
        },
        "id": "jnEg9Ytj4CcG",
        "outputId": "21a6e202-3789-4938-acff-c6c8b4280654"
      },
      "execution_count": 50,
      "outputs": [
        {
          "output_type": "stream",
          "name": "stdout",
          "text": [
            "+-------------------+\n",
            "|          residuals|\n",
            "+-------------------+\n",
            "|-28.479244065165986|\n",
            "|-27.294435459451353|\n",
            "|-21.601926224267665|\n",
            "| -23.87370915122182|\n",
            "|-25.502402864884452|\n",
            "| -17.77337988194499|\n",
            "|-16.182354628975567|\n",
            "|-19.352831911559026|\n",
            "|-15.910242936109684|\n",
            "| -16.00888682382688|\n",
            "|-12.202054463839504|\n",
            "|-12.482328523185176|\n",
            "|-14.303512996697824|\n",
            "|-15.451889364212265|\n",
            "| -7.783261426580812|\n",
            "| -12.43575417868677|\n",
            "|-15.165068868905413|\n",
            "| -13.84228470752555|\n",
            "|-11.930012928977721|\n",
            "|-11.503737455946338|\n",
            "+-------------------+\n",
            "only showing top 20 rows\n",
            "\n",
            "RMSE: 10.73182455388563\n"
          ]
        }
      ]
    },
    {
      "cell_type": "code",
      "source": [
        "unlabeled_data=test_data.select('features')"
      ],
      "metadata": {
        "id": "uyb_cj3e4JmJ"
      },
      "execution_count": 34,
      "outputs": []
    },
    {
      "cell_type": "code",
      "source": [
        "unlabeled_data.show()"
      ],
      "metadata": {
        "colab": {
          "base_uri": "https://localhost:8080/"
        },
        "id": "pGKCV38n4Re0",
        "outputId": "febdf5ee-1187-42fd-ce53-5f30603b4de5"
      },
      "execution_count": 35,
      "outputs": [
        {
          "output_type": "stream",
          "name": "stdout",
          "text": [
            "+--------------------+\n",
            "|            features|\n",
            "+--------------------+\n",
            "|(10,[0,1,2,3,4,5,...|\n",
            "|(10,[0,1,2,3,4,5,...|\n",
            "|(10,[0,1,2,3,4,5,...|\n",
            "|(10,[0,1,2,3,4,5,...|\n",
            "|(10,[0,1,2,3,4,5,...|\n",
            "|(10,[0,1,2,3,4,5,...|\n",
            "|(10,[0,1,2,3,4,5,...|\n",
            "|(10,[0,1,2,3,4,5,...|\n",
            "|(10,[0,1,2,3,4,5,...|\n",
            "|(10,[0,1,2,3,4,5,...|\n",
            "|(10,[0,1,2,3,4,5,...|\n",
            "|(10,[0,1,2,3,4,5,...|\n",
            "|(10,[0,1,2,3,4,5,...|\n",
            "|(10,[0,1,2,3,4,5,...|\n",
            "|(10,[0,1,2,3,4,5,...|\n",
            "|(10,[0,1,2,3,4,5,...|\n",
            "|(10,[0,1,2,3,4,5,...|\n",
            "|(10,[0,1,2,3,4,5,...|\n",
            "|(10,[0,1,2,3,4,5,...|\n",
            "|(10,[0,1,2,3,4,5,...|\n",
            "+--------------------+\n",
            "only showing top 20 rows\n",
            "\n"
          ]
        }
      ]
    },
    {
      "cell_type": "markdown",
      "source": [
        "Well that is nice, but realistically we will eventually want to test this model against unlabeled data, after all, that is the whole point of building the model in the first place. We can again do this with a convenient method call, in this case, transform(). Which was actually being called within the evaluate() method. Let's see it in action:"
      ],
      "metadata": {
        "id": "RElIQyZ465EI"
      }
    },
    {
      "cell_type": "code",
      "source": [
        "predictions=correct_model.transform(unlabeled_data)"
      ],
      "metadata": {
        "id": "p71FMiFr4U7H"
      },
      "execution_count": 36,
      "outputs": []
    },
    {
      "cell_type": "code",
      "source": [
        "predictions.show()"
      ],
      "metadata": {
        "colab": {
          "base_uri": "https://localhost:8080/"
        },
        "id": "a59peSq94e1i",
        "outputId": "af273f3f-40aa-4794-f9a6-19ffb966b1b0"
      },
      "execution_count": 37,
      "outputs": [
        {
          "output_type": "stream",
          "name": "stdout",
          "text": [
            "+--------------------+--------------------+\n",
            "|            features|          prediction|\n",
            "+--------------------+--------------------+\n",
            "|(10,[0,1,2,3,4,5,...| -3.6667213643743843|\n",
            "|(10,[0,1,2,3,4,5,...|  2.8472421684362996|\n",
            "|(10,[0,1,2,3,4,5,...|  0.8991762649314347|\n",
            "|(10,[0,1,2,3,4,5,...| -2.6049205393910917|\n",
            "|(10,[0,1,2,3,4,5,...|  0.6249318558130322|\n",
            "|(10,[0,1,2,3,4,5,...|  0.6125585831032094|\n",
            "|(10,[0,1,2,3,4,5,...| -0.3219028744369153|\n",
            "|(10,[0,1,2,3,4,5,...|  1.6865663827525204|\n",
            "|(10,[0,1,2,3,4,5,...| -2.3095278517266706|\n",
            "|(10,[0,1,2,3,4,5,...| -1.6987796080655002|\n",
            "|(10,[0,1,2,3,4,5,...|   3.376686512062108|\n",
            "|(10,[0,1,2,3,4,5,...|-0.16829671587186107|\n",
            "|(10,[0,1,2,3,4,5,...|  0.3104552641160903|\n",
            "|(10,[0,1,2,3,4,5,...| -3.9526818406576916|\n",
            "|(10,[0,1,2,3,4,5,...|   1.067537989906657|\n",
            "|(10,[0,1,2,3,4,5,...|   1.734979992491562|\n",
            "|(10,[0,1,2,3,4,5,...|   2.014878026346038|\n",
            "|(10,[0,1,2,3,4,5,...|  -1.530251177222366|\n",
            "|(10,[0,1,2,3,4,5,...| 0.36652016245677377|\n",
            "|(10,[0,1,2,3,4,5,...| -0.7580921187318727|\n",
            "+--------------------+--------------------+\n",
            "only showing top 20 rows\n",
            "\n"
          ]
        }
      ]
    },
    {
      "cell_type": "markdown",
      "source": [
        "Okay, so this data is a bit meaningless, so let's explore this same process with some data that actually makes a little more intuitive sense!"
      ],
      "metadata": {
        "id": "M_DIwMV47DCC"
      }
    }
  ]
}
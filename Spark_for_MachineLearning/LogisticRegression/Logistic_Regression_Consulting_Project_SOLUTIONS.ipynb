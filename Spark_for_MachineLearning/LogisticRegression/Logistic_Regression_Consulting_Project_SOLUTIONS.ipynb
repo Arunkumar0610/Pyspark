{
  "nbformat": 4,
  "nbformat_minor": 0,
  "metadata": {
    "colab": {
      "provenance": []
    },
    "kernelspec": {
      "name": "python3",
      "display_name": "Python 3"
    },
    "language_info": {
      "name": "python"
    }
  },
  "cells": [
    {
      "cell_type": "code",
      "execution_count": 1,
      "metadata": {
        "colab": {
          "base_uri": "https://localhost:8080/"
        },
        "id": "OtdAEdU4i9mU",
        "outputId": "6862ffb1-5d55-4972-c5bf-b56ebf2cd98e"
      },
      "outputs": [
        {
          "output_type": "stream",
          "name": "stdout",
          "text": [
            "Looking in indexes: https://pypi.org/simple, https://us-python.pkg.dev/colab-wheels/public/simple/\n",
            "Collecting pyspark\n",
            "  Downloading pyspark-3.4.0.tar.gz (310.8 MB)\n",
            "\u001b[2K     \u001b[90m━━━━━━━━━━━━━━━━━━━━━━━━━━━━━━━━━━━━━━━\u001b[0m \u001b[32m310.8/310.8 MB\u001b[0m \u001b[31m2.8 MB/s\u001b[0m eta \u001b[36m0:00:00\u001b[0m\n",
            "\u001b[?25h  Preparing metadata (setup.py) ... \u001b[?25l\u001b[?25hdone\n",
            "Requirement already satisfied: py4j in /usr/local/lib/python3.10/dist-packages (0.10.9.7)\n",
            "Building wheels for collected packages: pyspark\n",
            "  Building wheel for pyspark (setup.py) ... \u001b[?25l\u001b[?25hdone\n",
            "  Created wheel for pyspark: filename=pyspark-3.4.0-py2.py3-none-any.whl size=311317145 sha256=d21a47008dd43beeef8e3ab7ddc68a89fb54d3bd0b5380e244472077f62274b6\n",
            "  Stored in directory: /root/.cache/pip/wheels/7b/1b/4b/3363a1d04368e7ff0d408e57ff57966fcdf00583774e761327\n",
            "Successfully built pyspark\n",
            "Installing collected packages: pyspark\n",
            "Successfully installed pyspark-3.4.0\n"
          ]
        }
      ],
      "source": [
        "!pip install pyspark py4j"
      ]
    },
    {
      "cell_type": "markdown",
      "source": [
        "# Logistic Regression Consulting Project\n",
        "# Solutions\n",
        "\n",
        "Binary Customer Churn\n",
        "\n",
        "A marketing agency has many customers that use their service to produce ads for the client/customer websites. They've noticed that they have quite a bit of churn in clients. They basically randomly assign account managers right now, but want you to create a machine learning model that will help predict which customers will churn (stop buying their service) so that they can correctly assign the customers most at risk to churn an account manager. Luckily they have some historical data, can you help them out? Create a classification algorithm that will help classify whether or not a customer churned. Then the company can test this against incoming data for future customers to predict which customers will churn and assign them an account manager.\n",
        "\n",
        "The data is saved as customer_churn.csv. Here are the fields and their definitions:\n",
        "\n",
        "Name : Name of the latest contact at Company\n",
        "\n",
        "Age: Customer Age\n",
        "\n",
        "Total_Purchase: Total Ads Purchased\n",
        "\n",
        "Account_Manager: Binary 0=No manager, 1= Account manager assigned\n",
        "\n",
        "Years: Totaly Years as a customer\n",
        "\n",
        "Num_sites: Number of websites that use the service.\n",
        "\n",
        "Onboard_date: Date that the name of the latest contact was onboarded\n",
        "\n",
        "Location: Client HQ Address\n",
        "\n",
        "Company: Name of Client Company\n",
        "\n",
        "Once you've created the model and evaluated it, test out the model on some new data (you can think of this almost like a hold-out set) that your client has provided, saved under new_customers.csv. The client wants to know which customers are most likely to churn given this data (they don't have the label yet)."
      ],
      "metadata": {
        "id": "t1vXfRjmjm9W"
      }
    },
    {
      "cell_type": "code",
      "source": [
        "from pyspark.sql import SparkSession"
      ],
      "metadata": {
        "id": "ex9gRvorj4KC"
      },
      "execution_count": 2,
      "outputs": []
    },
    {
      "cell_type": "code",
      "source": [
        "spark=SparkSession.builder.appName('logregconsult').getOrCreate()"
      ],
      "metadata": {
        "id": "1seBuxGLkLAy"
      },
      "execution_count": 3,
      "outputs": []
    },
    {
      "cell_type": "code",
      "source": [
        "data=spark.read.csv('/content/sample_data/customer_churn.csv',inferSchema=True,header=True)"
      ],
      "metadata": {
        "id": "mWoN65NKkVbJ"
      },
      "execution_count": 4,
      "outputs": []
    },
    {
      "cell_type": "code",
      "source": [
        "data.printSchema()"
      ],
      "metadata": {
        "colab": {
          "base_uri": "https://localhost:8080/"
        },
        "id": "9HaZJzXok1g_",
        "outputId": "3d6dc3d1-e206-4144-8cc0-96b1a2af4637"
      },
      "execution_count": 5,
      "outputs": [
        {
          "output_type": "stream",
          "name": "stdout",
          "text": [
            "root\n",
            " |-- Names: string (nullable = true)\n",
            " |-- Age: double (nullable = true)\n",
            " |-- Total_Purchase: double (nullable = true)\n",
            " |-- Account_Manager: integer (nullable = true)\n",
            " |-- Years: double (nullable = true)\n",
            " |-- Num_Sites: double (nullable = true)\n",
            " |-- Onboard_date: timestamp (nullable = true)\n",
            " |-- Location: string (nullable = true)\n",
            " |-- Company: string (nullable = true)\n",
            " |-- Churn: integer (nullable = true)\n",
            "\n"
          ]
        }
      ]
    },
    {
      "cell_type": "markdown",
      "source": [
        "### Check out the data"
      ],
      "metadata": {
        "id": "9P2e8WgMopQ-"
      }
    },
    {
      "cell_type": "code",
      "source": [
        "data.describe().show()"
      ],
      "metadata": {
        "colab": {
          "base_uri": "https://localhost:8080/"
        },
        "id": "cR8MM6vck36W",
        "outputId": "19f969af-dea8-4913-f96f-1ab5eec5b6bb"
      },
      "execution_count": 6,
      "outputs": [
        {
          "output_type": "stream",
          "name": "stdout",
          "text": [
            "+-------+-------------+-----------------+-----------------+------------------+-----------------+------------------+--------------------+--------------------+-------------------+\n",
            "|summary|        Names|              Age|   Total_Purchase|   Account_Manager|            Years|         Num_Sites|            Location|             Company|              Churn|\n",
            "+-------+-------------+-----------------+-----------------+------------------+-----------------+------------------+--------------------+--------------------+-------------------+\n",
            "|  count|          900|              900|              900|               900|              900|               900|                 900|                 900|                900|\n",
            "|   mean|         null|41.81666666666667|10062.82403333334|0.4811111111111111| 5.27315555555555| 8.587777777777777|                null|                null|0.16666666666666666|\n",
            "| stddev|         null|6.127560416916251|2408.644531858096|0.4999208935073339|1.274449013194616|1.7648355920350969|                null|                null| 0.3728852122772358|\n",
            "|    min|   Aaron King|             22.0|            100.0|                 0|              1.0|               3.0|00103 Jeffrey Cre...|     Abbott-Thompson|                  0|\n",
            "|    max|Zachary Walsh|             65.0|         18026.01|                 1|             9.15|              14.0|Unit 9800 Box 287...|Zuniga, Clark and...|                  1|\n",
            "+-------+-------------+-----------------+-----------------+------------------+-----------------+------------------+--------------------+--------------------+-------------------+\n",
            "\n"
          ]
        }
      ]
    },
    {
      "cell_type": "code",
      "source": [
        "data.columns"
      ],
      "metadata": {
        "colab": {
          "base_uri": "https://localhost:8080/"
        },
        "id": "Q4p03Mbpk_Gp",
        "outputId": "3110a5ed-f27c-46ea-d058-08ac4ed6a468"
      },
      "execution_count": 7,
      "outputs": [
        {
          "output_type": "execute_result",
          "data": {
            "text/plain": [
              "['Names',\n",
              " 'Age',\n",
              " 'Total_Purchase',\n",
              " 'Account_Manager',\n",
              " 'Years',\n",
              " 'Num_Sites',\n",
              " 'Onboard_date',\n",
              " 'Location',\n",
              " 'Company',\n",
              " 'Churn']"
            ]
          },
          "metadata": {},
          "execution_count": 7
        }
      ]
    },
    {
      "cell_type": "markdown",
      "source": [
        "## Format for MLlib\n",
        "We'll ues the numerical columns. We'll include Account Manager because its easy enough, but keep in mind it probably won't be any sort of a signal because the agency mentioned its randomly assigned!"
      ],
      "metadata": {
        "id": "wgNQxS81orxY"
      }
    },
    {
      "cell_type": "code",
      "source": [
        "from pyspark.ml.feature import VectorAssembler"
      ],
      "metadata": {
        "id": "lvrLM2qVlCht"
      },
      "execution_count": 8,
      "outputs": []
    },
    {
      "cell_type": "code",
      "source": [
        "assembler=VectorAssembler(inputCols=['Age',\n",
        " 'Total_Purchase',\n",
        " 'Account_Manager',\n",
        " 'Years',\n",
        " 'Num_Sites'],outputCol='features')"
      ],
      "metadata": {
        "id": "__9zezl_lIS9"
      },
      "execution_count": 9,
      "outputs": []
    },
    {
      "cell_type": "code",
      "source": [
        "output=assembler.transform(data)"
      ],
      "metadata": {
        "id": "dlvFh5V0lTaJ"
      },
      "execution_count": 10,
      "outputs": []
    },
    {
      "cell_type": "code",
      "source": [
        "final_data=output.select('features','churn')"
      ],
      "metadata": {
        "id": "IrmIcwIrlXi_"
      },
      "execution_count": 11,
      "outputs": []
    },
    {
      "cell_type": "markdown",
      "source": [
        "## Test Train Split"
      ],
      "metadata": {
        "id": "HkDMzij7o1mR"
      }
    },
    {
      "cell_type": "code",
      "source": [
        "train_churn,test_churn=final_data.randomSplit([0.7,0.3])"
      ],
      "metadata": {
        "id": "UWPSQdrTldoR"
      },
      "execution_count": 12,
      "outputs": []
    },
    {
      "cell_type": "markdown",
      "source": [
        "## Fit the model"
      ],
      "metadata": {
        "id": "RlRjhE-Oo5Zw"
      }
    },
    {
      "cell_type": "code",
      "source": [
        "from pyspark.ml.classification import LogisticRegression"
      ],
      "metadata": {
        "id": "6RcS3GIfllJQ"
      },
      "execution_count": 13,
      "outputs": []
    },
    {
      "cell_type": "code",
      "source": [
        "lr_churn=LogisticRegression(labelCol='churn')"
      ],
      "metadata": {
        "id": "j5RgyO_NltGm"
      },
      "execution_count": 14,
      "outputs": []
    },
    {
      "cell_type": "code",
      "source": [
        "fitted_churn_model=lr_churn.fit(train_churn)"
      ],
      "metadata": {
        "id": "QtNgBsNRlyg7"
      },
      "execution_count": 15,
      "outputs": []
    },
    {
      "cell_type": "code",
      "source": [
        "training_sum=fitted_churn_model.summary"
      ],
      "metadata": {
        "id": "zCC8gAdPl5gl"
      },
      "execution_count": 16,
      "outputs": []
    },
    {
      "cell_type": "code",
      "source": [
        "training_sum.predictions.describe().show()"
      ],
      "metadata": {
        "colab": {
          "base_uri": "https://localhost:8080/"
        },
        "id": "b02JCMMSl_NZ",
        "outputId": "6542eb28-1293-42ae-e5b0-a994cfeb1c86"
      },
      "execution_count": 17,
      "outputs": [
        {
          "output_type": "stream",
          "name": "stdout",
          "text": [
            "+-------+-------------------+-------------------+\n",
            "|summary|              churn|         prediction|\n",
            "+-------+-------------------+-------------------+\n",
            "|  count|                618|                618|\n",
            "|   mean|0.16666666666666666|0.11812297734627832|\n",
            "| stddev|0.37297988208014793| 0.3230151274079822|\n",
            "|    min|                0.0|                0.0|\n",
            "|    max|                1.0|                1.0|\n",
            "+-------+-------------------+-------------------+\n",
            "\n"
          ]
        }
      ]
    },
    {
      "cell_type": "markdown",
      "source": [
        "## Evaluate results\n",
        "Let's evaluate the results on the data set we were given (using the test data)"
      ],
      "metadata": {
        "id": "OQfzXX7-pALE"
      }
    },
    {
      "cell_type": "code",
      "source": [
        "from pyspark.ml.evaluation import BinaryClassificationEvaluator"
      ],
      "metadata": {
        "id": "FTYHb9tfmE8P"
      },
      "execution_count": 18,
      "outputs": []
    },
    {
      "cell_type": "code",
      "source": [
        "pred_and_labels=fitted_churn_model.evaluate(test_churn)"
      ],
      "metadata": {
        "id": "GTIVESXQmLjY"
      },
      "execution_count": 19,
      "outputs": []
    },
    {
      "cell_type": "code",
      "source": [
        "pred_and_labels.predictions.show()"
      ],
      "metadata": {
        "colab": {
          "base_uri": "https://localhost:8080/"
        },
        "id": "fmjuC2CfmSZM",
        "outputId": "1a11c330-8661-421f-e54f-e011c910aef6"
      },
      "execution_count": 20,
      "outputs": [
        {
          "output_type": "stream",
          "name": "stdout",
          "text": [
            "+--------------------+-----+--------------------+--------------------+----------+\n",
            "|            features|churn|       rawPrediction|         probability|prediction|\n",
            "+--------------------+-----+--------------------+--------------------+----------+\n",
            "|[26.0,8939.61,0.0...|    0|[6.12203085023444...|[0.99781080732068...|       0.0|\n",
            "|[27.0,8628.8,1.0,...|    0|[5.33750476457423...|[0.99521515236233...|       0.0|\n",
            "|[28.0,9090.43,1.0...|    0|[1.58811058333925...|[0.83035010930249...|       0.0|\n",
            "|[29.0,13255.05,1....|    0|[3.99847315357710...|[0.98198680194116...|       0.0|\n",
            "|[30.0,8403.78,1.0...|    0|[5.72099334941659...|[0.99673424547549...|       0.0|\n",
            "|[30.0,8677.28,1.0...|    0|[4.20425559671192...|[0.98528778401161...|       0.0|\n",
            "|[30.0,8874.83,0.0...|    0|[3.09856213497377...|[0.95683339555695...|       0.0|\n",
            "|[30.0,10183.98,1....|    0|[2.84067804037430...|[0.94483481369089...|       0.0|\n",
            "|[30.0,11575.37,1....|    1|[3.87649668350795...|[0.97969743762661...|       0.0|\n",
            "|[30.0,12788.37,0....|    0|[2.31717937124769...|[0.91028986825910...|       0.0|\n",
            "|[31.0,5304.6,0.0,...|    0|[3.36604906004269...|[0.96662646958597...|       0.0|\n",
            "|[31.0,8829.83,1.0...|    0|[4.30068027221395...|[0.98662206403566...|       0.0|\n",
            "|[31.0,9574.89,0.0...|    0|[3.31007317234348...|[0.96477276773399...|       0.0|\n",
            "|[31.0,10182.6,1.0...|    0|[4.57879862908324...|[0.98983712091835...|       0.0|\n",
            "|[31.0,11297.57,1....|    1|[1.05125687119944...|[0.74101617990208...|       0.0|\n",
            "|[32.0,7896.65,0.0...|    0|[3.44768782826482...|[0.96916211187988...|       0.0|\n",
            "|[32.0,8575.71,0.0...|    0|[3.60810401098893...|[0.97361201298358...|       0.0|\n",
            "|[32.0,8617.98,1.0...|    1|[1.15540858936861...|[0.76049743082200...|       0.0|\n",
            "|[32.0,9036.27,0.0...|    0|[-0.0809770669860...|[0.47976678829064...|       1.0|\n",
            "|[32.0,9472.72,1.0...|    0|[3.56248194272146...|[0.97241423339459...|       0.0|\n",
            "+--------------------+-----+--------------------+--------------------+----------+\n",
            "only showing top 20 rows\n",
            "\n"
          ]
        }
      ]
    },
    {
      "cell_type": "markdown",
      "source": [
        "### Using AUC"
      ],
      "metadata": {
        "id": "aLDjceg8pGY9"
      }
    },
    {
      "cell_type": "code",
      "source": [
        "churn_eval=BinaryClassificationEvaluator(rawPredictionCol='prediction',labelCol='churn')"
      ],
      "metadata": {
        "id": "S7ZR_5Q-maXB"
      },
      "execution_count": 21,
      "outputs": []
    },
    {
      "cell_type": "code",
      "source": [
        "auc=churn_eval.evaluate(pred_and_labels.predictions)"
      ],
      "metadata": {
        "id": "fcQkeB6PmjxW"
      },
      "execution_count": 22,
      "outputs": []
    },
    {
      "cell_type": "code",
      "source": [
        "auc"
      ],
      "metadata": {
        "colab": {
          "base_uri": "https://localhost:8080/"
        },
        "id": "GiZcwpoymtYs",
        "outputId": "a5673fb9-fc8f-41e9-f730-485c78e5d295"
      },
      "execution_count": 23,
      "outputs": [
        {
          "output_type": "execute_result",
          "data": {
            "text/plain": [
              "0.7765957446808511"
            ]
          },
          "metadata": {},
          "execution_count": 23
        }
      ]
    },
    {
      "cell_type": "markdown",
      "source": [
        "[Common question - what is a good AUC value?](https://stats.stackexchange.com/questions/113326/what-is-a-good-auc-for-a-precision-recall-curve)\n",
        "\n",
        "##Predict on brand new unlabeled data\n",
        "\n",
        "We still need to evaluate the new_customers.csv file!"
      ],
      "metadata": {
        "id": "NOe4mgOvpMrj"
      }
    },
    {
      "cell_type": "code",
      "source": [
        "final_lr_model=lr_churn.fit(final_data)"
      ],
      "metadata": {
        "id": "LTjOf59Ym1kS"
      },
      "execution_count": 24,
      "outputs": []
    },
    {
      "cell_type": "code",
      "source": [
        "new_customers=spark.read.csv('/content/sample_data/new_customers.csv',inferSchema=True,header=True)"
      ],
      "metadata": {
        "id": "fHXT-eLRm_GZ"
      },
      "execution_count": 25,
      "outputs": []
    },
    {
      "cell_type": "code",
      "source": [
        "new_customers.printSchema()"
      ],
      "metadata": {
        "colab": {
          "base_uri": "https://localhost:8080/"
        },
        "id": "xhDox0qUn2Gh",
        "outputId": "1b087183-4353-4893-805d-6a7d3810a085"
      },
      "execution_count": 26,
      "outputs": [
        {
          "output_type": "stream",
          "name": "stdout",
          "text": [
            "root\n",
            " |-- Names: string (nullable = true)\n",
            " |-- Age: double (nullable = true)\n",
            " |-- Total_Purchase: double (nullable = true)\n",
            " |-- Account_Manager: integer (nullable = true)\n",
            " |-- Years: double (nullable = true)\n",
            " |-- Num_Sites: double (nullable = true)\n",
            " |-- Onboard_date: timestamp (nullable = true)\n",
            " |-- Location: string (nullable = true)\n",
            " |-- Company: string (nullable = true)\n",
            "\n"
          ]
        }
      ]
    },
    {
      "cell_type": "code",
      "source": [
        "test_new_customers=assembler.transform(new_customers)"
      ],
      "metadata": {
        "id": "PsONnhWAn7zQ"
      },
      "execution_count": 27,
      "outputs": []
    },
    {
      "cell_type": "code",
      "source": [
        "test_new_customers.printSchema()"
      ],
      "metadata": {
        "colab": {
          "base_uri": "https://localhost:8080/"
        },
        "id": "CMZK07pPoELs",
        "outputId": "5d352e49-f1a6-4fe5-d6cc-dea380354f87"
      },
      "execution_count": 28,
      "outputs": [
        {
          "output_type": "stream",
          "name": "stdout",
          "text": [
            "root\n",
            " |-- Names: string (nullable = true)\n",
            " |-- Age: double (nullable = true)\n",
            " |-- Total_Purchase: double (nullable = true)\n",
            " |-- Account_Manager: integer (nullable = true)\n",
            " |-- Years: double (nullable = true)\n",
            " |-- Num_Sites: double (nullable = true)\n",
            " |-- Onboard_date: timestamp (nullable = true)\n",
            " |-- Location: string (nullable = true)\n",
            " |-- Company: string (nullable = true)\n",
            " |-- features: vector (nullable = true)\n",
            "\n"
          ]
        }
      ]
    },
    {
      "cell_type": "code",
      "source": [
        "final_results=final_lr_model.transform(test_new_customers)"
      ],
      "metadata": {
        "id": "NITU8dqioH6v"
      },
      "execution_count": 29,
      "outputs": []
    },
    {
      "cell_type": "code",
      "source": [
        "final_results.select('Company','prediction').show()"
      ],
      "metadata": {
        "colab": {
          "base_uri": "https://localhost:8080/"
        },
        "id": "8ZgHdBXDoQCf",
        "outputId": "a8d2622a-f2b9-4309-ebfa-bcc0ca72003d"
      },
      "execution_count": 31,
      "outputs": [
        {
          "output_type": "stream",
          "name": "stdout",
          "text": [
            "+----------------+----------+\n",
            "|         Company|prediction|\n",
            "+----------------+----------+\n",
            "|        King Ltd|       0.0|\n",
            "|   Cannon-Benson|       1.0|\n",
            "|Barron-Robertson|       1.0|\n",
            "|   Sexton-Golden|       1.0|\n",
            "|        Wood LLC|       0.0|\n",
            "|   Parks-Robbins|       1.0|\n",
            "+----------------+----------+\n",
            "\n"
          ]
        }
      ]
    },
    {
      "cell_type": "code",
      "source": [
        "test_new_customers.describe().show()"
      ],
      "metadata": {
        "colab": {
          "base_uri": "https://localhost:8080/"
        },
        "id": "DeaeEkjHocFQ",
        "outputId": "22360754-4e05-4465-840c-63d4f8e2096b"
      },
      "execution_count": 32,
      "outputs": [
        {
          "output_type": "stream",
          "name": "stdout",
          "text": [
            "+-------+-------------+------------------+-----------------+------------------+-----------------+------------------+--------------------+----------------+\n",
            "|summary|        Names|               Age|   Total_Purchase|   Account_Manager|            Years|         Num_Sites|            Location|         Company|\n",
            "+-------+-------------+------------------+-----------------+------------------+-----------------+------------------+--------------------+----------------+\n",
            "|  count|            6|                 6|                6|                 6|                6|                 6|                   6|               6|\n",
            "|   mean|         null|35.166666666666664|7607.156666666667|0.8333333333333334|6.808333333333334|12.333333333333334|                null|            null|\n",
            "| stddev|         null| 15.71517313511584|4346.008232825459| 0.408248290463863|3.708737880555414|3.3862466931200785|                null|            null|\n",
            "|    min|Andrew Mccall|              22.0|            100.0|                 0|              1.0|               8.0|085 Austin Views ...|Barron-Robertson|\n",
            "|    max| Taylor Young|              65.0|         13147.71|                 1|             10.0|              15.0|Unit 0789 Box 073...|        Wood LLC|\n",
            "+-------+-------------+------------------+-----------------+------------------+-----------------+------------------+--------------------+----------------+\n",
            "\n"
          ]
        }
      ]
    }
  ]
}
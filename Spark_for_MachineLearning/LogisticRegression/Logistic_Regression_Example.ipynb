{
  "nbformat": 4,
  "nbformat_minor": 0,
  "metadata": {
    "colab": {
      "provenance": []
    },
    "kernelspec": {
      "name": "python3",
      "display_name": "Python 3"
    },
    "language_info": {
      "name": "python"
    }
  },
  "cells": [
    {
      "cell_type": "code",
      "source": [
        "!pip install pyspark py4j"
      ],
      "metadata": {
        "colab": {
          "base_uri": "https://localhost:8080/"
        },
        "id": "-LWe98I_ReG7",
        "outputId": "55b43417-363a-445c-e4ec-c1f0df84916b"
      },
      "execution_count": 1,
      "outputs": [
        {
          "output_type": "stream",
          "name": "stdout",
          "text": [
            "Looking in indexes: https://pypi.org/simple, https://us-python.pkg.dev/colab-wheels/public/simple/\n",
            "Collecting pyspark\n",
            "  Downloading pyspark-3.4.0.tar.gz (310.8 MB)\n",
            "\u001b[2K     \u001b[90m━━━━━━━━━━━━━━━━━━━━━━━━━━━━━━━━━━━━━━━\u001b[0m \u001b[32m310.8/310.8 MB\u001b[0m \u001b[31m3.5 MB/s\u001b[0m eta \u001b[36m0:00:00\u001b[0m\n",
            "\u001b[?25h  Preparing metadata (setup.py) ... \u001b[?25l\u001b[?25hdone\n",
            "Requirement already satisfied: py4j in /usr/local/lib/python3.10/dist-packages (0.10.9.7)\n",
            "Building wheels for collected packages: pyspark\n",
            "  Building wheel for pyspark (setup.py) ... \u001b[?25l\u001b[?25hdone\n",
            "  Created wheel for pyspark: filename=pyspark-3.4.0-py2.py3-none-any.whl size=311317145 sha256=67bb808fefa8027f450e9b4c07cc29252b967b05b06c4b6a9ce7c7dd21a4a257\n",
            "  Stored in directory: /root/.cache/pip/wheels/7b/1b/4b/3363a1d04368e7ff0d408e57ff57966fcdf00583774e761327\n",
            "Successfully built pyspark\n",
            "Installing collected packages: pyspark\n",
            "Successfully installed pyspark-3.4.0\n"
          ]
        }
      ]
    },
    {
      "cell_type": "markdown",
      "source": [
        "# Logistic Regression\n",
        "Let's see an example of how to run a logistic regression with Python and Spark! This is documentation example, we will quickly run through this and then show a more realistic example, afterwards, you will have another consulting project!"
      ],
      "metadata": {
        "id": "gNtNxD97RW5O"
      }
    },
    {
      "cell_type": "code",
      "execution_count": 2,
      "metadata": {
        "id": "IWvk_6D7RMvh"
      },
      "outputs": [],
      "source": [
        "from pyspark.sql import SparkSession"
      ]
    },
    {
      "cell_type": "code",
      "source": [
        "spark=SparkSession.builder.appName('mylogreg').getOrCreate()"
      ],
      "metadata": {
        "id": "tFPzdiMZWokM"
      },
      "execution_count": 3,
      "outputs": []
    },
    {
      "cell_type": "code",
      "source": [
        "from pyspark.ml.classification import LogisticRegression"
      ],
      "metadata": {
        "id": "sC8VZ7Y0WxhE"
      },
      "execution_count": 4,
      "outputs": []
    },
    {
      "cell_type": "code",
      "source": [
        "# Load training data\n",
        "my_data=spark.read.format('libsvm').load('/content/sample_data/sample_libsvm_data.txt')\n",
        "my_data.show()\n",
        "\n",
        "my_log_reg_model=LogisticRegression()\n",
        "## Fit the model\n",
        "fitted_logreg=my_log_reg_model.fit(my_data)\n",
        "\n",
        "log_summary=fitted_logreg.summary"
      ],
      "metadata": {
        "colab": {
          "base_uri": "https://localhost:8080/"
        },
        "id": "ESO6LgfbW9DU",
        "outputId": "35796c72-e437-424f-df04-9fed59a7f96e"
      },
      "execution_count": 13,
      "outputs": [
        {
          "output_type": "stream",
          "name": "stdout",
          "text": [
            "+-----+--------------------+\n",
            "|label|            features|\n",
            "+-----+--------------------+\n",
            "|  0.0|(692,[127,128,129...|\n",
            "|  1.0|(692,[158,159,160...|\n",
            "|  1.0|(692,[124,125,126...|\n",
            "|  1.0|(692,[152,153,154...|\n",
            "|  1.0|(692,[151,152,153...|\n",
            "|  0.0|(692,[129,130,131...|\n",
            "|  1.0|(692,[158,159,160...|\n",
            "|  1.0|(692,[99,100,101,...|\n",
            "|  0.0|(692,[154,155,156...|\n",
            "|  0.0|(692,[127,128,129...|\n",
            "|  1.0|(692,[154,155,156...|\n",
            "|  0.0|(692,[153,154,155...|\n",
            "|  0.0|(692,[151,152,153...|\n",
            "|  1.0|(692,[129,130,131...|\n",
            "|  0.0|(692,[154,155,156...|\n",
            "|  1.0|(692,[150,151,152...|\n",
            "|  0.0|(692,[124,125,126...|\n",
            "|  0.0|(692,[152,153,154...|\n",
            "|  1.0|(692,[97,98,99,12...|\n",
            "|  1.0|(692,[124,125,126...|\n",
            "+-----+--------------------+\n",
            "only showing top 20 rows\n",
            "\n"
          ]
        }
      ]
    },
    {
      "cell_type": "code",
      "source": [
        "log_summary.predictions.printSchema()"
      ],
      "metadata": {
        "colab": {
          "base_uri": "https://localhost:8080/"
        },
        "id": "Vv_r2-P7YDRv",
        "outputId": "b3bf7850-195f-4009-e674-a65c1f86d3c2"
      },
      "execution_count": 14,
      "outputs": [
        {
          "output_type": "stream",
          "name": "stdout",
          "text": [
            "root\n",
            " |-- label: double (nullable = true)\n",
            " |-- features: vector (nullable = true)\n",
            " |-- rawPrediction: vector (nullable = true)\n",
            " |-- probability: vector (nullable = true)\n",
            " |-- prediction: double (nullable = false)\n",
            "\n"
          ]
        }
      ]
    },
    {
      "cell_type": "code",
      "source": [
        "log_summary.predictions.show()"
      ],
      "metadata": {
        "colab": {
          "base_uri": "https://localhost:8080/"
        },
        "id": "ZNklevzWYtrW",
        "outputId": "589ef507-7e51-4f85-ce38-30467d480677"
      },
      "execution_count": 15,
      "outputs": [
        {
          "output_type": "stream",
          "name": "stdout",
          "text": [
            "+-----+--------------------+--------------------+--------------------+----------+\n",
            "|label|            features|       rawPrediction|         probability|prediction|\n",
            "+-----+--------------------+--------------------+--------------------+----------+\n",
            "|  0.0|(692,[127,128,129...|[20.3777627514872...|[0.99999999858729...|       0.0|\n",
            "|  1.0|(692,[158,159,160...|[-21.114014198868...|[6.76550380000472...|       1.0|\n",
            "|  1.0|(692,[124,125,126...|[-23.743613234676...|[4.87842678716177...|       1.0|\n",
            "|  1.0|(692,[152,153,154...|[-19.192574012720...|[4.62137287298144...|       1.0|\n",
            "|  1.0|(692,[151,152,153...|[-20.125398874699...|[1.81823629113068...|       1.0|\n",
            "|  0.0|(692,[129,130,131...|[20.4890549504196...|[0.99999999873608...|       0.0|\n",
            "|  1.0|(692,[158,159,160...|[-21.082940212814...|[6.97903542823766...|       1.0|\n",
            "|  1.0|(692,[99,100,101,...|[-19.622713503550...|[3.00582577446132...|       1.0|\n",
            "|  0.0|(692,[154,155,156...|[21.1594863606582...|[0.99999999935352...|       0.0|\n",
            "|  0.0|(692,[127,128,129...|[28.1036706837287...|[0.99999999999937...|       0.0|\n",
            "|  1.0|(692,[154,155,156...|[-21.054076780106...|[7.18340962960324...|       1.0|\n",
            "|  0.0|(692,[153,154,155...|[26.9648490510184...|[0.99999999999805...|       0.0|\n",
            "|  0.0|(692,[151,152,153...|[32.7855654161400...|[0.99999999999999...|       0.0|\n",
            "|  1.0|(692,[129,130,131...|[-20.331839179667...|[1.47908944089721...|       1.0|\n",
            "|  0.0|(692,[154,155,156...|[21.7830579106564...|[0.99999999965347...|       0.0|\n",
            "|  1.0|(692,[150,151,152...|[-20.640562103728...|[1.08621994880353...|       1.0|\n",
            "|  0.0|(692,[124,125,126...|[22.6400775503731...|[0.99999999985292...|       0.0|\n",
            "|  0.0|(692,[152,153,154...|[38.0712919910909...|           [1.0,0.0]|       0.0|\n",
            "|  1.0|(692,[97,98,99,12...|[-19.830803265627...|[2.44113371545874...|       1.0|\n",
            "|  1.0|(692,[124,125,126...|[-21.016054806036...|[7.46179590484091...|       1.0|\n",
            "+-----+--------------------+--------------------+--------------------+----------+\n",
            "only showing top 20 rows\n",
            "\n"
          ]
        }
      ]
    },
    {
      "cell_type": "code",
      "source": [
        "lr_train,lr_test=my_data.randomSplit([0.7,0.3])"
      ],
      "metadata": {
        "id": "mSu6oS9kZBZN"
      },
      "execution_count": 16,
      "outputs": []
    },
    {
      "cell_type": "code",
      "source": [
        "final_model=LogisticRegression()"
      ],
      "metadata": {
        "id": "Ynyvwn5jZLWt"
      },
      "execution_count": 17,
      "outputs": []
    },
    {
      "cell_type": "code",
      "source": [
        "fit_final=final_model.fit(lr_train)"
      ],
      "metadata": {
        "id": "voLPA9IMZP-i"
      },
      "execution_count": 18,
      "outputs": []
    },
    {
      "cell_type": "code",
      "source": [
        "prediction_and_labels=fit_final.evaluate(lr_test)"
      ],
      "metadata": {
        "id": "KxCi1_B_ZXBu"
      },
      "execution_count": 19,
      "outputs": []
    },
    {
      "cell_type": "code",
      "source": [
        "prediction_and_labels.predictions.show()"
      ],
      "metadata": {
        "colab": {
          "base_uri": "https://localhost:8080/"
        },
        "id": "uIKdZquWZj3I",
        "outputId": "3c10c686-6f2e-4ae2-fc63-052679e39a87"
      },
      "execution_count": 20,
      "outputs": [
        {
          "output_type": "stream",
          "name": "stdout",
          "text": [
            "+-----+--------------------+--------------------+--------------------+----------+\n",
            "|label|            features|       rawPrediction|         probability|prediction|\n",
            "+-----+--------------------+--------------------+--------------------+----------+\n",
            "|  0.0|(692,[123,124,125...|[35.3351405081332...|[0.99999999999999...|       0.0|\n",
            "|  0.0|(692,[124,125,126...|[39.1703381705621...|           [1.0,0.0]|       0.0|\n",
            "|  0.0|(692,[124,125,126...|[34.7877265150717...|[0.99999999999999...|       0.0|\n",
            "|  0.0|(692,[124,125,126...|[26.0028612917426...|[0.99999999999490...|       0.0|\n",
            "|  0.0|(692,[126,127,128...|[29.3903997584922...|[0.99999999999982...|       0.0|\n",
            "|  0.0|(692,[126,127,128...|[23.3626482328486...|[0.99999999992859...|       0.0|\n",
            "|  0.0|(692,[127,128,129...|[18.2787343364501...|[0.99999998847485...|       0.0|\n",
            "|  0.0|(692,[127,128,129...|[26.0563075408779...|[0.99999999999517...|       0.0|\n",
            "|  0.0|(692,[128,129,130...|[21.6421180530668...|[0.99999999960102...|       0.0|\n",
            "|  0.0|(692,[129,130,131...|[16.3657505749118...|[0.99999992193707...|       0.0|\n",
            "|  0.0|(692,[152,153,154...|[36.8474713368287...|           [1.0,0.0]|       0.0|\n",
            "|  0.0|(692,[154,155,156...|[18.1075370710928...|[0.99999998632282...|       0.0|\n",
            "|  0.0|(692,[154,155,156...|[25.7713255135290...|[0.99999999999357...|       0.0|\n",
            "|  1.0|(692,[124,125,126...|[-23.480508737445...|[6.34665108391129...|       1.0|\n",
            "|  1.0|(692,[124,125,126...|[-22.411420122114...|[1.84860408872491...|       1.0|\n",
            "|  1.0|(692,[125,126,153...|[-20.969029486604...|[7.82107053740540...|       1.0|\n",
            "|  1.0|(692,[125,126,153...|[-20.407821302980...|[1.37086857129184...|       1.0|\n",
            "|  1.0|(692,[127,128,129...|[-22.214787624497...|[2.25029947018097...|       1.0|\n",
            "|  1.0|(692,[127,128,129...|[-22.644869783651...|[1.46372000838158...|       1.0|\n",
            "|  1.0|(692,[128,129,130...|[-20.445104454284...|[1.32069931623890...|       1.0|\n",
            "+-----+--------------------+--------------------+--------------------+----------+\n",
            "only showing top 20 rows\n",
            "\n"
          ]
        }
      ]
    },
    {
      "cell_type": "code",
      "source": [
        "# May change soon!\n",
        "from pyspark.ml.evaluation import (BinaryClassificationEvaluator,MulticlassClassificationEvaluator)"
      ],
      "metadata": {
        "id": "WSYzSbaWY1g2"
      },
      "execution_count": 25,
      "outputs": []
    },
    {
      "cell_type": "code",
      "source": [
        "my_eval=BinaryClassificationEvaluator()"
      ],
      "metadata": {
        "id": "oSk8HSA7aYh0"
      },
      "execution_count": 26,
      "outputs": []
    },
    {
      "cell_type": "code",
      "source": [
        "my_final_roc=my_eval.evaluate(prediction_and_labels.predictions)"
      ],
      "metadata": {
        "id": "BluezVkLa63J"
      },
      "execution_count": 28,
      "outputs": []
    },
    {
      "cell_type": "code",
      "source": [
        "my_final_roc"
      ],
      "metadata": {
        "colab": {
          "base_uri": "https://localhost:8080/"
        },
        "id": "DoVxu7d7bCud",
        "outputId": "96ca4adb-274f-4a17-df44-d19023977ffc"
      },
      "execution_count": 29,
      "outputs": [
        {
          "output_type": "execute_result",
          "data": {
            "text/plain": [
              "1.0"
            ]
          },
          "metadata": {},
          "execution_count": 29
        }
      ]
    }
  ]
}
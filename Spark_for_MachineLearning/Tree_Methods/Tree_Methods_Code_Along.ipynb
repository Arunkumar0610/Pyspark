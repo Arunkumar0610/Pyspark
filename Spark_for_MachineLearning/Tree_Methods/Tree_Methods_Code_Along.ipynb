{
  "nbformat": 4,
  "nbformat_minor": 0,
  "metadata": {
    "colab": {
      "provenance": []
    },
    "kernelspec": {
      "name": "python3",
      "display_name": "Python 3"
    },
    "language_info": {
      "name": "python"
    }
  },
  "cells": [
    {
      "cell_type": "code",
      "execution_count": 1,
      "metadata": {
        "colab": {
          "base_uri": "https://localhost:8080/"
        },
        "id": "BD1lWgYc8oIh",
        "outputId": "6491f609-9993-423d-874d-1253a0acd928"
      },
      "outputs": [
        {
          "output_type": "stream",
          "name": "stdout",
          "text": [
            "Looking in indexes: https://pypi.org/simple, https://us-python.pkg.dev/colab-wheels/public/simple/\n",
            "Collecting pyspark\n",
            "  Downloading pyspark-3.4.0.tar.gz (310.8 MB)\n",
            "\u001b[2K     \u001b[90m━━━━━━━━━━━━━━━━━━━━━━━━━━━━━━━━━━━━━━━\u001b[0m \u001b[32m310.8/310.8 MB\u001b[0m \u001b[31m2.7 MB/s\u001b[0m eta \u001b[36m0:00:00\u001b[0m\n",
            "\u001b[?25h  Preparing metadata (setup.py) ... \u001b[?25l\u001b[?25hdone\n",
            "Requirement already satisfied: py4j in /usr/local/lib/python3.10/dist-packages (0.10.9.7)\n",
            "Building wheels for collected packages: pyspark\n",
            "  Building wheel for pyspark (setup.py) ... \u001b[?25l\u001b[?25hdone\n",
            "  Created wheel for pyspark: filename=pyspark-3.4.0-py2.py3-none-any.whl size=311317145 sha256=3a5222c5bacf269e3fc5a38b01559d9e13056805547efc6889f869e1bc0d859e\n",
            "  Stored in directory: /root/.cache/pip/wheels/7b/1b/4b/3363a1d04368e7ff0d408e57ff57966fcdf00583774e761327\n",
            "Successfully built pyspark\n",
            "Installing collected packages: pyspark\n",
            "Successfully installed pyspark-3.4.0\n"
          ]
        }
      ],
      "source": [
        "!pip install pyspark py4j"
      ]
    },
    {
      "cell_type": "markdown",
      "source": [
        "# Tree Methods Code Along\n",
        "\n",
        "In this lecture we will code along with some data and test out 3 different tree methods:\n",
        "\n",
        "A single decision tree\n",
        "\n",
        "A random forest\n",
        "\n",
        "A gradient boosted tree classifier\n",
        "\n",
        "We will be using a college dataset to try to classify colleges as Private or Public based off these features:\n",
        "\n",
        "Private A factor with levels No and Yes indicating private or public university\n",
        "\n",
        "Apps Number of applications received\n",
        "\n",
        "Accept Number of applications accepted\n",
        "\n",
        "Enroll Number of new students enrolled\n",
        "\n",
        "Top10perc Pct. new students from top 10% of H.S. class\n",
        "\n",
        "Top25perc Pct. new students from top 25% of H.S. class\n",
        "\n",
        "F.Undergrad Number of fulltime undergraduates\n",
        "\n",
        "P.Undergrad Number of parttime undergraduates\n",
        "\n",
        "Outstate Out-of-state tuition\n",
        "\n",
        "Room.Board Room and board costs\n",
        "\n",
        "Books Estimated book costs\n",
        "\n",
        "Personal Estimated personal spending\n",
        "\n",
        "PhD Pct. of faculty with Ph.D.’s\n",
        "\n",
        "Terminal Pct. of faculty with terminal degree\n",
        "\n",
        "S.F.Ratio Student/faculty ratio\n",
        "\n",
        "perc.alumni Pct. alumni who donate\n",
        "\n",
        "Expend Instructional expenditure per student\n",
        "\n",
        "Grad.Rate Graduation rate\n"
      ],
      "metadata": {
        "id": "1_QAMqa69Tnn"
      }
    },
    {
      "cell_type": "code",
      "source": [
        "from pyspark.sql import SparkSession\n",
        "spark=SparkSession.builder.appName('tree').getOrCreate()\n",
        "data=spark.read.csv('/content/sample_data/College.csv',inferSchema=True,header=True)"
      ],
      "metadata": {
        "id": "GSfoXNB99YUT"
      },
      "execution_count": 2,
      "outputs": []
    },
    {
      "cell_type": "code",
      "source": [
        "data.printSchema()"
      ],
      "metadata": {
        "colab": {
          "base_uri": "https://localhost:8080/"
        },
        "id": "xvj1FEOZ-RNF",
        "outputId": "36c363e4-d2fe-449a-8289-cee07cb0694d"
      },
      "execution_count": 3,
      "outputs": [
        {
          "output_type": "stream",
          "name": "stdout",
          "text": [
            "root\n",
            " |-- School: string (nullable = true)\n",
            " |-- Private: string (nullable = true)\n",
            " |-- Apps: integer (nullable = true)\n",
            " |-- Accept: integer (nullable = true)\n",
            " |-- Enroll: integer (nullable = true)\n",
            " |-- Top10perc: integer (nullable = true)\n",
            " |-- Top25perc: integer (nullable = true)\n",
            " |-- F_Undergrad: integer (nullable = true)\n",
            " |-- P_Undergrad: integer (nullable = true)\n",
            " |-- Outstate: integer (nullable = true)\n",
            " |-- Room_Board: integer (nullable = true)\n",
            " |-- Books: integer (nullable = true)\n",
            " |-- Personal: integer (nullable = true)\n",
            " |-- PhD: integer (nullable = true)\n",
            " |-- Terminal: integer (nullable = true)\n",
            " |-- S_F_Ratio: double (nullable = true)\n",
            " |-- perc_alumni: integer (nullable = true)\n",
            " |-- Expend: integer (nullable = true)\n",
            " |-- Grad_Rate: integer (nullable = true)\n",
            "\n"
          ]
        }
      ]
    },
    {
      "cell_type": "code",
      "source": [
        "data.head(1)"
      ],
      "metadata": {
        "colab": {
          "base_uri": "https://localhost:8080/"
        },
        "id": "Gaa_ViJh-YbU",
        "outputId": "84b10671-dfec-4e3d-df19-7dc523ccf0ee"
      },
      "execution_count": 4,
      "outputs": [
        {
          "output_type": "execute_result",
          "data": {
            "text/plain": [
              "[Row(School='Abilene Christian University', Private='Yes', Apps=1660, Accept=1232, Enroll=721, Top10perc=23, Top25perc=52, F_Undergrad=2885, P_Undergrad=537, Outstate=7440, Room_Board=3300, Books=450, Personal=2200, PhD=70, Terminal=78, S_F_Ratio=18.1, perc_alumni=12, Expend=7041, Grad_Rate=60)]"
            ]
          },
          "metadata": {},
          "execution_count": 4
        }
      ]
    },
    {
      "cell_type": "code",
      "source": [
        "from pyspark.ml.feature import VectorAssembler"
      ],
      "metadata": {
        "id": "W89LziCX-gBe"
      },
      "execution_count": 5,
      "outputs": []
    },
    {
      "cell_type": "code",
      "source": [
        "data.columns"
      ],
      "metadata": {
        "colab": {
          "base_uri": "https://localhost:8080/"
        },
        "id": "ikglI6HZ-mZz",
        "outputId": "90f3b55d-f5d1-45ea-f1f1-229ad76d9c94"
      },
      "execution_count": 6,
      "outputs": [
        {
          "output_type": "execute_result",
          "data": {
            "text/plain": [
              "['School',\n",
              " 'Private',\n",
              " 'Apps',\n",
              " 'Accept',\n",
              " 'Enroll',\n",
              " 'Top10perc',\n",
              " 'Top25perc',\n",
              " 'F_Undergrad',\n",
              " 'P_Undergrad',\n",
              " 'Outstate',\n",
              " 'Room_Board',\n",
              " 'Books',\n",
              " 'Personal',\n",
              " 'PhD',\n",
              " 'Terminal',\n",
              " 'S_F_Ratio',\n",
              " 'perc_alumni',\n",
              " 'Expend',\n",
              " 'Grad_Rate']"
            ]
          },
          "metadata": {},
          "execution_count": 6
        }
      ]
    },
    {
      "cell_type": "code",
      "source": [
        "assembler=VectorAssembler(inputCols=[ 'Apps',\n",
        " 'Accept',\n",
        " 'Enroll',\n",
        " 'Top10perc',\n",
        " 'Top25perc',\n",
        " 'F_Undergrad',\n",
        " 'P_Undergrad',\n",
        " 'Outstate',\n",
        " 'Room_Board',\n",
        " 'Books',\n",
        " 'Personal',\n",
        " 'PhD',\n",
        " 'Terminal',\n",
        " 'S_F_Ratio',\n",
        " 'perc_alumni',\n",
        " 'Expend',\n",
        " 'Grad_Rate'],outputCol='features')"
      ],
      "metadata": {
        "id": "e5ZToHhw-ohw"
      },
      "execution_count": 7,
      "outputs": []
    },
    {
      "cell_type": "code",
      "source": [
        "output=assembler.transform(data)"
      ],
      "metadata": {
        "id": "l7WVh8mt-97d"
      },
      "execution_count": 8,
      "outputs": []
    },
    {
      "cell_type": "code",
      "source": [
        "from pyspark.ml.feature import StringIndexer"
      ],
      "metadata": {
        "id": "6tcih9w3_E4U"
      },
      "execution_count": 9,
      "outputs": []
    },
    {
      "cell_type": "code",
      "source": [
        "indexer=StringIndexer(inputCol='Private',outputCol='PrivateIndex')"
      ],
      "metadata": {
        "id": "Q-i-NiQh_MP7"
      },
      "execution_count": 10,
      "outputs": []
    },
    {
      "cell_type": "code",
      "source": [
        "output_fixed=indexer.fit(output).transform(output)"
      ],
      "metadata": {
        "id": "VTspw7ZU_W0n"
      },
      "execution_count": 11,
      "outputs": []
    },
    {
      "cell_type": "code",
      "source": [
        "output_fixed.printSchema()"
      ],
      "metadata": {
        "colab": {
          "base_uri": "https://localhost:8080/"
        },
        "id": "PSWSKEoa_gkk",
        "outputId": "f2f9b6f8-ab6a-4038-dd82-bf1753a1bf1f"
      },
      "execution_count": 12,
      "outputs": [
        {
          "output_type": "stream",
          "name": "stdout",
          "text": [
            "root\n",
            " |-- School: string (nullable = true)\n",
            " |-- Private: string (nullable = true)\n",
            " |-- Apps: integer (nullable = true)\n",
            " |-- Accept: integer (nullable = true)\n",
            " |-- Enroll: integer (nullable = true)\n",
            " |-- Top10perc: integer (nullable = true)\n",
            " |-- Top25perc: integer (nullable = true)\n",
            " |-- F_Undergrad: integer (nullable = true)\n",
            " |-- P_Undergrad: integer (nullable = true)\n",
            " |-- Outstate: integer (nullable = true)\n",
            " |-- Room_Board: integer (nullable = true)\n",
            " |-- Books: integer (nullable = true)\n",
            " |-- Personal: integer (nullable = true)\n",
            " |-- PhD: integer (nullable = true)\n",
            " |-- Terminal: integer (nullable = true)\n",
            " |-- S_F_Ratio: double (nullable = true)\n",
            " |-- perc_alumni: integer (nullable = true)\n",
            " |-- Expend: integer (nullable = true)\n",
            " |-- Grad_Rate: integer (nullable = true)\n",
            " |-- features: vector (nullable = true)\n",
            " |-- PrivateIndex: double (nullable = false)\n",
            "\n"
          ]
        }
      ]
    },
    {
      "cell_type": "code",
      "source": [
        "final_data=output_fixed.select('features','PrivateIndex')"
      ],
      "metadata": {
        "id": "AgUyy2pc_m2w"
      },
      "execution_count": 13,
      "outputs": []
    },
    {
      "cell_type": "code",
      "source": [
        "train_data,test_data=final_data.randomSplit([0.7,0.3])"
      ],
      "metadata": {
        "id": "RC3SgELu_yxl"
      },
      "execution_count": 14,
      "outputs": []
    },
    {
      "cell_type": "code",
      "source": [
        "from pyspark.ml.classification import (DecisionTreeClassifier,RandomForestClassifier,GBTClassifier)"
      ],
      "metadata": {
        "id": "iDVLUQy2_8Ox"
      },
      "execution_count": 15,
      "outputs": []
    },
    {
      "cell_type": "code",
      "source": [
        "from pyspark.ml import Pipeline"
      ],
      "metadata": {
        "id": "xOt5SFylAIji"
      },
      "execution_count": 16,
      "outputs": []
    },
    {
      "cell_type": "code",
      "source": [
        "dtc=DecisionTreeClassifier(labelCol='PrivateIndex',featuresCol='features')\n",
        "rfc=RandomForestClassifier(numTrees=150,labelCol='PrivateIndex',featuresCol='features')\n",
        "gbt=GBTClassifier(labelCol='PrivateIndex',featuresCol='features')"
      ],
      "metadata": {
        "id": "3X-vg9l9ARas"
      },
      "execution_count": 27,
      "outputs": []
    },
    {
      "cell_type": "code",
      "source": [
        "dtc_model=dtc.fit(train_data)\n",
        "rfc_model=rfc.fit(train_data)\n",
        "gbt_model=gbt.fit(train_data)"
      ],
      "metadata": {
        "id": "Vo1dX_9JAwKN"
      },
      "execution_count": 28,
      "outputs": []
    },
    {
      "cell_type": "code",
      "source": [
        "dtc_preds=dtc_model.transform(test_data)\n",
        "rfc_preds=rfc_model.transform(test_data)\n",
        "gbt_preds=gbt_model.transform(test_data)"
      ],
      "metadata": {
        "id": "OM70ywsfA_7x"
      },
      "execution_count": 29,
      "outputs": []
    },
    {
      "cell_type": "code",
      "source": [
        "print(\"dtc_preds:\")\n",
        "dtc_preds.show()\n",
        "print(\"rfc_preds:\")\n",
        "rfc_preds.show()\n",
        "print(\"gbt_preds:\")\n",
        "gbt_preds.show()"
      ],
      "metadata": {
        "colab": {
          "base_uri": "https://localhost:8080/"
        },
        "id": "j7rHhu4eCjF8",
        "outputId": "d8007ba2-988e-472f-81cb-b08f00765023"
      },
      "execution_count": 30,
      "outputs": [
        {
          "output_type": "stream",
          "name": "stdout",
          "text": [
            "dtc_preds:\n",
            "+--------------------+------------+-------------+-----------+----------+\n",
            "|            features|PrivateIndex|rawPrediction|probability|prediction|\n",
            "+--------------------+------------+-------------+-----------+----------+\n",
            "|[81.0,72.0,51.0,3...|         0.0|   [15.0,0.0]|  [1.0,0.0]|       0.0|\n",
            "|[100.0,90.0,35.0,...|         0.0|  [286.0,0.0]|  [1.0,0.0]|       0.0|\n",
            "|[167.0,130.0,46.0...|         0.0|  [286.0,0.0]|  [1.0,0.0]|       0.0|\n",
            "|[191.0,165.0,63.0...|         0.0|  [286.0,0.0]|  [1.0,0.0]|       0.0|\n",
            "|[193.0,146.0,55.0...|         0.0|   [26.0,0.0]|  [1.0,0.0]|       0.0|\n",
            "|[212.0,197.0,91.0...|         0.0|  [286.0,0.0]|  [1.0,0.0]|       0.0|\n",
            "|[213.0,155.0,75.0...|         0.0|   [26.0,0.0]|  [1.0,0.0]|       0.0|\n",
            "|[222.0,185.0,91.0...|         0.0|  [286.0,0.0]|  [1.0,0.0]|       0.0|\n",
            "|[232.0,182.0,99.0...|         0.0|   [26.0,0.0]|  [1.0,0.0]|       0.0|\n",
            "|[279.0,276.0,126....|         0.0|   [26.0,0.0]|  [1.0,0.0]|       0.0|\n",
            "|[283.0,201.0,97.0...|         0.0|  [286.0,0.0]|  [1.0,0.0]|       0.0|\n",
            "|[314.0,158.0,132....|         0.0|  [286.0,0.0]|  [1.0,0.0]|       0.0|\n",
            "|[325.0,260.0,86.0...|         0.0|  [286.0,0.0]|  [1.0,0.0]|       0.0|\n",
            "|[331.0,331.0,225....|         0.0|   [26.0,0.0]|  [1.0,0.0]|       0.0|\n",
            "|[353.0,340.0,103....|         0.0|  [286.0,0.0]|  [1.0,0.0]|       0.0|\n",
            "|[367.0,274.0,158....|         0.0|  [286.0,0.0]|  [1.0,0.0]|       0.0|\n",
            "|[372.0,362.0,181....|         0.0|  [286.0,0.0]|  [1.0,0.0]|       0.0|\n",
            "|[374.0,280.0,185....|         0.0|  [286.0,0.0]|  [1.0,0.0]|       0.0|\n",
            "|[404.0,400.0,169....|         0.0|   [26.0,0.0]|  [1.0,0.0]|       0.0|\n",
            "|[427.0,385.0,143....|         0.0|  [286.0,0.0]|  [1.0,0.0]|       0.0|\n",
            "+--------------------+------------+-------------+-----------+----------+\n",
            "only showing top 20 rows\n",
            "\n",
            "rfc_preds:\n",
            "+--------------------+------------+--------------------+--------------------+----------+\n",
            "|            features|PrivateIndex|       rawPrediction|         probability|prediction|\n",
            "+--------------------+------------+--------------------+--------------------+----------+\n",
            "|[81.0,72.0,51.0,3...|         0.0|[138.828636790502...|[0.92552424527001...|       0.0|\n",
            "|[100.0,90.0,35.0,...|         0.0|[146.781155191560...|[0.97854103461040...|       0.0|\n",
            "|[167.0,130.0,46.0...|         0.0|[148.757849465482...|[0.99171899643654...|       0.0|\n",
            "|[191.0,165.0,63.0...|         0.0|[144.134633607784...|[0.96089755738523...|       0.0|\n",
            "|[193.0,146.0,55.0...|         0.0|[130.312912470315...|[0.86875274980210...|       0.0|\n",
            "|[212.0,197.0,91.0...|         0.0|[148.721690481592...|[0.99147793654395...|       0.0|\n",
            "|[213.0,155.0,75.0...|         0.0|[144.999196400026...|[0.96666130933350...|       0.0|\n",
            "|[222.0,185.0,91.0...|         0.0|[148.781313311281...|[0.99187542207520...|       0.0|\n",
            "|[232.0,182.0,99.0...|         0.0|[130.134391070359...|[0.86756260713572...|       0.0|\n",
            "|[279.0,276.0,126....|         0.0|[131.164736950901...|[0.87443157967267...|       0.0|\n",
            "|[283.0,201.0,97.0...|         0.0|[146.118847827188...|[0.97412565218125...|       0.0|\n",
            "|[314.0,158.0,132....|         0.0|[120.373725497793...|[0.80249150331862...|       0.0|\n",
            "|[325.0,260.0,86.0...|         0.0|[148.372664865449...|[0.98915109910299...|       0.0|\n",
            "|[331.0,331.0,225....|         0.0|[128.310442343225...|[0.85540294895483...|       0.0|\n",
            "|[353.0,340.0,103....|         0.0|[148.674045254044...|[0.99116030169363...|       0.0|\n",
            "|[367.0,274.0,158....|         0.0|[140.447386827405...|[0.93631591218270...|       0.0|\n",
            "|[372.0,362.0,181....|         0.0|[146.173271301581...|[0.97448847534387...|       0.0|\n",
            "|[374.0,280.0,185....|         0.0|[146.553842484506...|[0.97702561656337...|       0.0|\n",
            "|[404.0,400.0,169....|         0.0|[144.302443826485...|[0.96201629217657...|       0.0|\n",
            "|[427.0,385.0,143....|         0.0|[148.750856458489...|[0.99167237638992...|       0.0|\n",
            "+--------------------+------------+--------------------+--------------------+----------+\n",
            "only showing top 20 rows\n",
            "\n",
            "gbt_preds:\n",
            "+--------------------+------------+--------------------+--------------------+----------+\n",
            "|            features|PrivateIndex|       rawPrediction|         probability|prediction|\n",
            "+--------------------+------------+--------------------+--------------------+----------+\n",
            "|[81.0,72.0,51.0,3...|         0.0|[1.53909953817758...|[0.95598446723948...|       0.0|\n",
            "|[100.0,90.0,35.0,...|         0.0|[1.61802037966689...|[0.96216825455254...|       0.0|\n",
            "|[167.0,130.0,46.0...|         0.0|[1.53909953817758...|[0.95598446723948...|       0.0|\n",
            "|[191.0,165.0,63.0...|         0.0|[1.62171590380962...|[0.96243637534231...|       0.0|\n",
            "|[193.0,146.0,55.0...|         0.0|[1.55346284521453...|[0.95717752074523...|       0.0|\n",
            "|[212.0,197.0,91.0...|         0.0|[1.53909953817758...|[0.95598446723948...|       0.0|\n",
            "|[213.0,155.0,75.0...|         0.0|[1.62278228350393...|[0.96251340413669...|       0.0|\n",
            "|[222.0,185.0,91.0...|         0.0|[1.53909953817758...|[0.95598446723948...|       0.0|\n",
            "|[232.0,182.0,99.0...|         0.0|[1.09076622668978...|[0.89857881745772...|       0.0|\n",
            "|[279.0,276.0,126....|         0.0|[1.55336872143019...|[0.95716980405528...|       0.0|\n",
            "|[283.0,201.0,97.0...|         0.0|[1.53920413572312...|[0.95599326894555...|       0.0|\n",
            "|[314.0,158.0,132....|         0.0|[1.11870385342953...|[0.90355880129893...|       0.0|\n",
            "|[325.0,260.0,86.0...|         0.0|[1.53909953817758...|[0.95598446723948...|       0.0|\n",
            "|[331.0,331.0,225....|         0.0|[1.66419679031603...|[0.96539013610436...|       0.0|\n",
            "|[353.0,340.0,103....|         0.0|[1.53529941648931...|[0.95566355232411...|       0.0|\n",
            "|[367.0,274.0,158....|         0.0|[1.43812756788786...|[0.94666008353460...|       0.0|\n",
            "|[372.0,362.0,181....|         0.0|[1.53909953817758...|[0.95598446723948...|       0.0|\n",
            "|[374.0,280.0,185....|         0.0|[1.53909953817758...|[0.95598446723948...|       0.0|\n",
            "|[404.0,400.0,169....|         0.0|[1.60181840136101...|[0.96097090738523...|       0.0|\n",
            "|[427.0,385.0,143....|         0.0|[1.53909953817758...|[0.95598446723948...|       0.0|\n",
            "+--------------------+------------+--------------------+--------------------+----------+\n",
            "only showing top 20 rows\n",
            "\n"
          ]
        }
      ]
    },
    {
      "cell_type": "code",
      "source": [
        "from pyspark.ml.evaluation import BinaryClassificationEvaluator"
      ],
      "metadata": {
        "id": "635-kw7iBSQO"
      },
      "execution_count": 31,
      "outputs": []
    },
    {
      "cell_type": "code",
      "source": [
        "my_binary_eval=BinaryClassificationEvaluator(labelCol='PrivateIndex')"
      ],
      "metadata": {
        "id": "ag_L3oHFBbqD"
      },
      "execution_count": 32,
      "outputs": []
    },
    {
      "cell_type": "code",
      "source": [
        "print('DTC: {} \\nRFC: {} \\nGBT: {}'.format(my_binary_eval.evaluate(dtc_preds),\n",
        "                                           my_binary_eval.evaluate(rfc_preds),\n",
        "                                           my_binary_eval.evaluate(gbt_preds)))"
      ],
      "metadata": {
        "colab": {
          "base_uri": "https://localhost:8080/"
        },
        "id": "n2PMcx1mBls_",
        "outputId": "5fb93da8-11d8-4447-c4a1-203da3ad34ee"
      },
      "execution_count": 33,
      "outputs": [
        {
          "output_type": "stream",
          "name": "stdout",
          "text": [
            "DTC: 0.9035727646838758 \n",
            "RFC: 0.9774597830153386 \n",
            "GBT: 0.913112607557052\n"
          ]
        }
      ]
    },
    {
      "cell_type": "code",
      "source": [
        "from pyspark.ml.evaluation import MulticlassClassificationEvaluator"
      ],
      "metadata": {
        "id": "pAHp9QSXCGfj"
      },
      "execution_count": 34,
      "outputs": []
    },
    {
      "cell_type": "code",
      "source": [
        "acc_eval=MulticlassClassificationEvaluator(labelCol='PrivateIndex',\n",
        "                                           metricName='accuracy')"
      ],
      "metadata": {
        "id": "bE0IjTowDUDM"
      },
      "execution_count": 36,
      "outputs": []
    },
    {
      "cell_type": "code",
      "source": [
        "dtc_acc=acc_eval.evaluate(dtc_preds)\n",
        "rfc_acc=acc_eval.evaluate(rfc_preds)\n",
        "gbt_acc=acc_eval.evaluate(gbt_preds)"
      ],
      "metadata": {
        "id": "BlcZfTmkDeMm"
      },
      "execution_count": 37,
      "outputs": []
    },
    {
      "cell_type": "code",
      "source": [
        "print('dtc accuracy: {} \\nrfc accuracy: {} \\ngbt accuracy: {}'.format(dtc_acc,rfc_acc,gbt_acc))"
      ],
      "metadata": {
        "colab": {
          "base_uri": "https://localhost:8080/"
        },
        "id": "MheohPgvD2zR",
        "outputId": "bb16c01f-dd14-424d-a52b-284cb10216aa"
      },
      "execution_count": 38,
      "outputs": [
        {
          "output_type": "stream",
          "name": "stdout",
          "text": [
            "dtc accuracy: 0.9122807017543859 \n",
            "rfc accuracy: 0.9254385964912281 \n",
            "gbt accuracy: 0.9122807017543859\n"
          ]
        }
      ]
    }
  ]
}
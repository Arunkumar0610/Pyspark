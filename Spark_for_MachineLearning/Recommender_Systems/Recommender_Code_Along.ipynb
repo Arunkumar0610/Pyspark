{
  "nbformat": 4,
  "nbformat_minor": 0,
  "metadata": {
    "colab": {
      "provenance": []
    },
    "kernelspec": {
      "name": "python3",
      "display_name": "Python 3"
    },
    "language_info": {
      "name": "python"
    }
  },
  "cells": [
    {
      "cell_type": "code",
      "execution_count": 1,
      "metadata": {
        "colab": {
          "base_uri": "https://localhost:8080/"
        },
        "id": "kLXzxdQMhNWl",
        "outputId": "03c6203f-8e1f-417f-97d9-044c30438329"
      },
      "outputs": [
        {
          "output_type": "stream",
          "name": "stdout",
          "text": [
            "Looking in indexes: https://pypi.org/simple, https://us-python.pkg.dev/colab-wheels/public/simple/\n",
            "Collecting pyspark\n",
            "  Downloading pyspark-3.4.0.tar.gz (310.8 MB)\n",
            "\u001b[2K     \u001b[90m━━━━━━━━━━━━━━━━━━━━━━━━━━━━━━━━━━━━━━━\u001b[0m \u001b[32m310.8/310.8 MB\u001b[0m \u001b[31m4.2 MB/s\u001b[0m eta \u001b[36m0:00:00\u001b[0m\n",
            "\u001b[?25h  Preparing metadata (setup.py) ... \u001b[?25l\u001b[?25hdone\n",
            "Requirement already satisfied: py4j in /usr/local/lib/python3.10/dist-packages (0.10.9.7)\n",
            "Building wheels for collected packages: pyspark\n",
            "  Building wheel for pyspark (setup.py) ... \u001b[?25l\u001b[?25hdone\n",
            "  Created wheel for pyspark: filename=pyspark-3.4.0-py2.py3-none-any.whl size=311317145 sha256=9b8fb88f202dbcadbc532c1385c5fe497eb721c312c4903cd76231437f0f56f6\n",
            "  Stored in directory: /root/.cache/pip/wheels/7b/1b/4b/3363a1d04368e7ff0d408e57ff57966fcdf00583774e761327\n",
            "Successfully built pyspark\n",
            "Installing collected packages: pyspark\n",
            "Successfully installed pyspark-3.4.0\n"
          ]
        }
      ],
      "source": [
        "!pip install pyspark py4j"
      ]
    },
    {
      "cell_type": "markdown",
      "source": [
        "# Recommender Code Along\n",
        "The classic recommender tutorial uses the movielens data set. It is similar to using the iris or MNIST data set for other algorithms. Let's do a code along to get an idea of how this all works!\n",
        "\n",
        "Looking for more datasets? Check out: https://gist.github.com/entaroadun/1653794"
      ],
      "metadata": {
        "id": "b9EFutvvhok9"
      }
    },
    {
      "cell_type": "code",
      "source": [
        "from pyspark.sql import SparkSession\n",
        "spark=SparkSession.builder.appName('rec').getOrCreate()"
      ],
      "metadata": {
        "id": "ZUswu1ayhpHF"
      },
      "execution_count": 2,
      "outputs": []
    },
    {
      "cell_type": "code",
      "source": [
        "from pyspark.ml.recommendation import ALS\n",
        "from pyspark.ml.evaluation import RegressionEvaluator"
      ],
      "metadata": {
        "id": "DwCoooKWjeNy"
      },
      "execution_count": 3,
      "outputs": []
    },
    {
      "cell_type": "markdown",
      "source": [
        "With Collaborative filtering we make predictions (filtering) about the interests of a user by collecting preferences or taste information from many users (collaborating). The underlying assumption is that if a user A has the same opinion as a user B on an issue, A is more likely to have B's opinion on a different issue x than to have the opinion on x of a user chosen randomly.\n",
        "\n",
        "The image below (from Wikipedia) shows an example of collaborative filtering. At first, people rate different items (like videos, images, games). Then, the system makes predictions about a user's rating for an item not rated yet. The new predictions are built upon the existing ratings of other users with similar ratings with the active user. In the image, the system predicts that the user will not like the video.\n",
        "\n",
        "[video](https://camo.githubusercontent.com/9579a3c24e3a37546ef7925d459af522d55f577ca68b0f583ca02aac6e4e0050/68747470733a2f2f75706c6f61642e77696b696d656469612e6f72672f77696b6970656469612f636f6d6d6f6e732f352f35322f436f6c6c61626f7261746976655f66696c746572696e672e676966)\n",
        "\n",
        "Spark MLlib library for Machine Learning provides a Collaborative Filtering implementation by using Alternating Least Squares. The implementation in MLlib has these parameters:\n",
        "\n",
        "* numBlocks is the number of blocks used to parallelize computation (set to -1 to auto-configure).\n",
        "* rank is the number of latent factors in the model.\n",
        "* iterations is the number of iterations to run.\n",
        "* lambda specifies the regularization parameter in ALS.\n",
        "* implicitPrefs specifies whether to use the explicit feedback ALS variant or one adapted for implicit feedback data.\n",
        "* alpha is a parameter applicable to the implicit feedback variant of ALS that governs the baseline confidence in preference observations.\n",
        "\n",
        "Let's see this all in action!"
      ],
      "metadata": {
        "id": "1pHfk3gvkUkA"
      }
    },
    {
      "cell_type": "code",
      "source": [
        "data=spark.read.csv('/content/sample_data/movielens_ratings.csv',inferSchema=True,header=True)"
      ],
      "metadata": {
        "id": "M5H-1IeVjsC5"
      },
      "execution_count": 4,
      "outputs": []
    },
    {
      "cell_type": "code",
      "source": [
        "data.show()"
      ],
      "metadata": {
        "colab": {
          "base_uri": "https://localhost:8080/"
        },
        "id": "kot_8ZnVlFzJ",
        "outputId": "49a5fc2b-2fdc-4986-dfce-70e3da912ef4"
      },
      "execution_count": 6,
      "outputs": [
        {
          "output_type": "stream",
          "name": "stdout",
          "text": [
            "+-------+------+------+\n",
            "|movieId|rating|userId|\n",
            "+-------+------+------+\n",
            "|      2|   3.0|     0|\n",
            "|      3|   1.0|     0|\n",
            "|      5|   2.0|     0|\n",
            "|      9|   4.0|     0|\n",
            "|     11|   1.0|     0|\n",
            "|     12|   2.0|     0|\n",
            "|     15|   1.0|     0|\n",
            "|     17|   1.0|     0|\n",
            "|     19|   1.0|     0|\n",
            "|     21|   1.0|     0|\n",
            "|     23|   1.0|     0|\n",
            "|     26|   3.0|     0|\n",
            "|     27|   1.0|     0|\n",
            "|     28|   1.0|     0|\n",
            "|     29|   1.0|     0|\n",
            "|     30|   1.0|     0|\n",
            "|     31|   1.0|     0|\n",
            "|     34|   1.0|     0|\n",
            "|     37|   1.0|     0|\n",
            "|     41|   2.0|     0|\n",
            "+-------+------+------+\n",
            "only showing top 20 rows\n",
            "\n"
          ]
        }
      ]
    },
    {
      "cell_type": "code",
      "source": [
        "data.head()"
      ],
      "metadata": {
        "colab": {
          "base_uri": "https://localhost:8080/"
        },
        "id": "nl5N7w9mkN-J",
        "outputId": "170a4a5c-c8b8-4731-eac1-74a8f40b43a8"
      },
      "execution_count": 5,
      "outputs": [
        {
          "output_type": "execute_result",
          "data": {
            "text/plain": [
              "Row(movieId=2, rating=3.0, userId=0)"
            ]
          },
          "metadata": {},
          "execution_count": 5
        }
      ]
    },
    {
      "cell_type": "code",
      "source": [
        "data.describe().show()"
      ],
      "metadata": {
        "colab": {
          "base_uri": "https://localhost:8080/"
        },
        "id": "ndWfldTalTUf",
        "outputId": "5299a560-1c07-480e-c884-46c8af20d5fb"
      },
      "execution_count": 7,
      "outputs": [
        {
          "output_type": "stream",
          "name": "stdout",
          "text": [
            "+-------+------------------+------------------+------------------+\n",
            "|summary|           movieId|            rating|            userId|\n",
            "+-------+------------------+------------------+------------------+\n",
            "|  count|              1501|              1501|              1501|\n",
            "|   mean| 49.40572951365756|1.7741505662891406|14.383744170552964|\n",
            "| stddev|28.937034065088994| 1.187276166124803| 8.591040424293272|\n",
            "|    min|                 0|               1.0|                 0|\n",
            "|    max|                99|               5.0|                29|\n",
            "+-------+------------------+------------------+------------------+\n",
            "\n"
          ]
        }
      ]
    },
    {
      "cell_type": "markdown",
      "source": [
        "We can do a split to evaluate how well our model performed, but keep in mind that it is very hard to know conclusively how well a recommender system is truly working for some topics. Especially if subjectivity is involved, for example not everyone that loves star wars is going to love star trek, even though a recommendation system may suggest otherwise."
      ],
      "metadata": {
        "id": "9HH2J6GtlQhf"
      }
    },
    {
      "cell_type": "code",
      "source": [
        "# Smaller dataset so we will use 0.8 / 0.2\n",
        "(training, test) = data.randomSplit([0.8, 0.2])"
      ],
      "metadata": {
        "id": "5Qr7kqMmlCr8"
      },
      "execution_count": 8,
      "outputs": []
    },
    {
      "cell_type": "code",
      "source": [
        "# Build the recommendation model using ALS on the training data\n",
        "als = ALS(maxIter=5, regParam=0.01, userCol=\"userId\", itemCol=\"movieId\", ratingCol=\"rating\")\n",
        "model = als.fit(training)"
      ],
      "metadata": {
        "id": "Yebg29qylhFs"
      },
      "execution_count": 9,
      "outputs": []
    },
    {
      "cell_type": "markdown",
      "source": [
        "Now let's see how the model performed!"
      ],
      "metadata": {
        "id": "V2uvChhwlsPs"
      }
    },
    {
      "cell_type": "code",
      "source": [
        "# Evaluate the model by computing the RMSE on the test data\n",
        "predictions = model.transform(test)"
      ],
      "metadata": {
        "id": "c2YyFkUulpeH"
      },
      "execution_count": 10,
      "outputs": []
    },
    {
      "cell_type": "code",
      "source": [
        "predictions.show()"
      ],
      "metadata": {
        "colab": {
          "base_uri": "https://localhost:8080/"
        },
        "id": "BO6bTWZHlzBC",
        "outputId": "b24564c4-e98c-4fc8-f11f-8db1b0c6b992"
      },
      "execution_count": 11,
      "outputs": [
        {
          "output_type": "stream",
          "name": "stdout",
          "text": [
            "+-------+------+------+-----------+\n",
            "|movieId|rating|userId| prediction|\n",
            "+-------+------+------+-----------+\n",
            "|      1|   1.0|    28|  1.1647227|\n",
            "|      0|   1.0|    22|  2.2299001|\n",
            "|      5|   2.0|    22|   2.416229|\n",
            "|      1|   1.0|     6|-0.96241426|\n",
            "|      2|   1.0|    16|   3.578138|\n",
            "|      2|   3.0|     6|   3.005766|\n",
            "|      6|   1.0|     6|  1.1318676|\n",
            "|      2|   1.0|     3| 0.49013335|\n",
            "|      0|   1.0|     5|  1.4943954|\n",
            "|      4|   1.0|     5|   2.233136|\n",
            "|      1|   1.0|    19|   0.716948|\n",
            "|      3|   1.0|     9|  1.1507212|\n",
            "|      4|   1.0|     9| 0.32034153|\n",
            "|      6|   1.0|     9|  0.6330774|\n",
            "|      6|   1.0|     4|0.007113615|\n",
            "|      3|   2.0|     8| 0.85784036|\n",
            "|      3|   1.0|     7| 0.69899887|\n",
            "|      2|   4.0|    10|   3.064523|\n",
            "|      1|   3.0|    25|  1.6535751|\n",
            "|      0|   1.0|    11| -1.2779042|\n",
            "+-------+------+------+-----------+\n",
            "only showing top 20 rows\n",
            "\n"
          ]
        }
      ]
    },
    {
      "cell_type": "code",
      "source": [
        "evaluator=RegressionEvaluator(metricName='rmse',labelCol='rating',predictionCol='prediction')\n",
        "rmse=evaluator.evaluate(predictions)\n",
        "print('RMSE:')\n",
        "print(rmse)"
      ],
      "metadata": {
        "colab": {
          "base_uri": "https://localhost:8080/"
        },
        "id": "DRiWv-X1l-h-",
        "outputId": "aec09a52-1a4d-469f-84d9-fb839193b763"
      },
      "execution_count": 12,
      "outputs": [
        {
          "output_type": "stream",
          "name": "stdout",
          "text": [
            "RMSE:\n",
            "2.0628686906662717\n"
          ]
        }
      ]
    },
    {
      "cell_type": "markdown",
      "source": [
        "The RMSE described our error in terms of the stars rating column.\n",
        "\n",
        "So now that we have the model, how would you actually supply a recommendation to a user?\n",
        "\n",
        "The same way we did with the test data! For example:"
      ],
      "metadata": {
        "id": "cI_3dX7fm2o3"
      }
    },
    {
      "cell_type": "code",
      "source": [
        "single_user=test.filter(test['userId']==11).select(['movieId','userId'])"
      ],
      "metadata": {
        "id": "-R25stDTmiaO"
      },
      "execution_count": 13,
      "outputs": []
    },
    {
      "cell_type": "code",
      "source": [
        "# User had 10 ratings in the test data set \n",
        "# Realistically this should be some sort of hold out set!\n",
        "single_user.show()"
      ],
      "metadata": {
        "colab": {
          "base_uri": "https://localhost:8080/"
        },
        "id": "jZ528KmNm6Lg",
        "outputId": "1a0f728d-8a42-446c-e936-02178e48a440"
      },
      "execution_count": 14,
      "outputs": [
        {
          "output_type": "stream",
          "name": "stdout",
          "text": [
            "+-------+------+\n",
            "|movieId|userId|\n",
            "+-------+------+\n",
            "|      0|    11|\n",
            "|     10|    11|\n",
            "|     22|    11|\n",
            "|     40|    11|\n",
            "|     41|    11|\n",
            "|     47|    11|\n",
            "|     70|    11|\n",
            "|     77|    11|\n",
            "|     80|    11|\n",
            "|     81|    11|\n",
            "+-------+------+\n",
            "\n"
          ]
        }
      ]
    },
    {
      "cell_type": "code",
      "source": [
        "reccomendations = model.transform(single_user)"
      ],
      "metadata": {
        "id": "w2gfvYGOm7yG"
      },
      "execution_count": 15,
      "outputs": []
    },
    {
      "cell_type": "code",
      "source": [
        "reccomendations.orderBy('prediction',ascending=False).show()"
      ],
      "metadata": {
        "colab": {
          "base_uri": "https://localhost:8080/"
        },
        "id": "WJKMamAHm-1q",
        "outputId": "c2c723fd-1d13-454a-c5a2-704e6fa57840"
      },
      "execution_count": 16,
      "outputs": [
        {
          "output_type": "stream",
          "name": "stdout",
          "text": [
            "+-------+------+----------+\n",
            "|movieId|userId|prediction|\n",
            "+-------+------+----------+\n",
            "|     47|    11| 5.1156373|\n",
            "|     22|    11|  4.809007|\n",
            "|     70|    11| 1.9249151|\n",
            "|     81|    11| 1.8753259|\n",
            "|     77|    11| 1.6578772|\n",
            "|     41|    11|0.83230907|\n",
            "|     10|    11| 0.6917889|\n",
            "|      0|    11|-1.2779042|\n",
            "|     80|    11|-1.3224785|\n",
            "|     40|    11|-2.0610735|\n",
            "+-------+------+----------+\n",
            "\n"
          ]
        }
      ]
    }
  ]
}